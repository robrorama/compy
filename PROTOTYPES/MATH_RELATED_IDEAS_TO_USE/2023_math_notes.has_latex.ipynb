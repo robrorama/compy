{
  "nbformat": 4,
  "nbformat_minor": 0,
  "metadata": {
    "colab": {
      "provenance": []
    },
    "kernelspec": {
      "name": "python3",
      "display_name": "Python 3"
    },
    "language_info": {
      "name": "python"
    }
  },
  "cells": [
    {
      "cell_type": "markdown",
      "source": [
        "positional encoding"
      ],
      "metadata": {
        "id": "YGBEZNiC-Sim"
      }
    },
    {
      "cell_type": "markdown",
      "source": [
        "$PE(p, 2i) = \\sin\\left(\\frac{p}{10000^{2i/d}}\\right), \\quad PE(p, 2i + 1) = \\cos\\left(\\frac{p}{10000^{2i/d}}\\right)$"
      ],
      "metadata": {
        "id": "vGckRTPq9JtM"
      }
    },
    {
      "cell_type": "markdown",
      "source": [
        "Variational Graph AutoEncoder"
      ],
      "metadata": {
        "id": "QlUonpyB_vBk"
      }
    },
    {
      "cell_type": "markdown",
      "source": [
        "$H^{(l+1)} = \\sigma\\left(\\tilde{D}^{-1/2}\\tilde{A}\\tilde{D}^{-1/2}H^{(l)}W^{(l)}\\right)$\n"
      ],
      "metadata": {
        "id": "X-24LiWq_orl"
      }
    },
    {
      "cell_type": "markdown",
      "source": [
        "self-attention mechanism\n"
      ],
      "metadata": {
        "id": "2hTSyQjM-Wcm"
      }
    },
    {
      "cell_type": "markdown",
      "source": [
        "$\\text{Attention}(Q, K, V) = \\text{softmax}\\left(\\frac{QK^T}{\\sqrt{d_k}}\\right)V$\n"
      ],
      "metadata": {
        "id": "GgbwreEM84SD"
      }
    },
    {
      "cell_type": "markdown",
      "source": [
        "Variational Inference"
      ],
      "metadata": {
        "id": "1V_F2E7a_z9N"
      }
    },
    {
      "cell_type": "markdown",
      "source": [
        "$\\mathcal{L} = \\mathbb{E}_{q(Z|X)}\\left[\\log p(X|Z)\\right] - D_{KL}\\left(q(Z|X) || p(Z)\\right)$\n"
      ],
      "metadata": {
        "id": "42DM__Or_4pM"
      }
    },
    {
      "cell_type": "markdown",
      "source": [],
      "metadata": {
        "id": "SU9DeAyW84J4"
      }
    },
    {
      "cell_type": "markdown",
      "source": [],
      "metadata": {
        "id": "Noozpq6z8ilj"
      }
    },
    {
      "cell_type": "markdown",
      "source": [
        "# Shannon entropy formula and definition\n",
        "\n",
        "The Shannon entropy $H(X)$ of a random variable $X$ with $n$ possible outcomes $x_1, x_2, \\ldots, x_n$ and probabilities $p_1, p_2, \\ldots, p_n$ is given by:\n",
        "\n",
        "$$H(X) = -\\sum_{i=1}^n p_i \\log_2 p_i$$\n",
        "\n",
        "where $\\log_2$ is the base-2 logarithm.\n",
        "\n",
        "The Shannon entropy measures the average amount of information (in bits) contained in each outcome of the random variable $X$. If all outcomes are equally likely, then the entropy is maximized and equal to $\\log_2 n$.\n",
        "\n",
        "Here's an example of how to calculate the Shannon entropy:\n",
        "\n",
        "Suppose we have a random variable $X$ that takes on values $x_1, x_2, x_3$ with probabilities $p_1 = 0.4, p_2 = 0.3,$ and $p_3 = 0.3$. To calculate the entropy, we use the formula:\n",
        "\n",
        "$$H(X) = -\\sum_{i=1}^3 p_i \\log_2 p_i = -(0.4 \\log_2 0.4 + 0.3 \\log_2 0.3 + 0.3 \\log_2 0.3) \\approx 1.57 \\text{ bits}$$\n",
        "\n",
        "This means that, on average, each outcome of $X$ contains 1.57 bits of information. Note that the entropy is highest when all outcomes are equally likely, and lowest when one outcome has probability 1 and all others have probability 0.\n",
        "\n",
        "In summary, Shannon entropy is a measure of uncertainty or unpredictability in a system, and it can be used to quantify the amount of information contained in a message or data. The formula for Shannon entropy takes into account the probabilities of each possible outcome, and the resulting entropy is measured in bits.\n"
      ],
      "metadata": {
        "id": "DkTQhiAd77Bl"
      }
    },
    {
      "cell_type": "code",
      "source": [],
      "metadata": {
        "id": "_LheGI291VGi"
      },
      "execution_count": null,
      "outputs": []
    },
    {
      "cell_type": "markdown",
      "source": [
        "# Central Limit Theorem of Calculus\n",
        "\n",
        "The central limit theorem of calculus states that:\n",
        "\n",
        "$$\\lim_{n\\to\\infty}\\sqrt{n}\\left(\\frac{1}{n}\\sum_{i=1}^{n}X_i - \\mu\\right) \\xrightarrow{d} \\mathcal{N}(0, \\sigma^2)$$\n",
        "\n",
        "where $\\{X_i\\}$ is a sequence of independent and identically distributed random variables with mean $\\mu$ and variance $\\sigma^2$. The notation $\\xrightarrow{d}$ indicates convergence in distribution, and $\\mathcal{N}(0, \\sigma^2)$ denotes a normal distribution with mean $0$ and variance $\\sigma^2$.\n"
      ],
      "metadata": {
        "id": "e8DPcxxAappp"
      }
    },
    {
      "cell_type": "markdown",
      "source": [
        "# Calculating a Derivative\n",
        "\n",
        "To calculate the derivative of a function $f(x)$ at a point $a$, we use the following formula:\n",
        "\n",
        "$$f'(a) = \\lim_{h\\to 0} \\frac{f(a+h) - f(a)}{h}$$\n",
        "\n",
        "where $h$ is a small positive number. Geometrically, the derivative at a point $a$ represents the slope of the tangent line to the function $f(x)$ at that point.\n",
        "\n",
        "The derivative can also be interpreted as the instantaneous rate of change of the function with respect to its input variable.\n",
        "\n",
        "If the derivative exists for all values of $x$ in an interval $I$, we say that the function is differentiable on $I$.\n"
      ],
      "metadata": {
        "id": "QxYW_vEFa1ra"
      }
    },
    {
      "cell_type": "markdown",
      "source": [
        "# Taylor Series Expansion\n",
        "\n",
        "The Taylor series expansion of a function $f(x)$ about a point $a$ is given by:\n",
        "\n",
        "$$f(x) = \\sum_{n=0}^{\\infty} \\frac{f^{(n)}(a)}{n!} (x-a)^n$$\n",
        "\n",
        "where $f^{(n)}(a)$ denotes the $n$th derivative of $f(x)$ evaluated at $a$.\n",
        "\n",
        "The Taylor series provides a way to approximate a function as an infinite sum of simpler functions. The series can be truncated at a certain term to obtain a polynomial approximation of the function.\n",
        "\n",
        "The Taylor series expansion is particularly useful in calculus, where it allows for the computation of derivatives and integrals of functions that are difficult to evaluate directly. It also plays a key role in the development of numerical methods for solving differential equations and in the analysis of numerical algorithms.\n"
      ],
      "metadata": {
        "id": "kwqaLCN3bSh0"
      }
    },
    {
      "cell_type": "markdown",
      "source": [
        "# Taylor Series for Finite Difference Approximations\n",
        "\n",
        "When approximating the derivative of a function using finite difference methods, we can use Taylor series expansions to derive the following approximations:\n",
        "\n",
        "- Forward difference approximation with second order error:\n",
        "\n",
        "  $$f'(x) \\approx \\frac{f(x+h) - f(x)}{h} = f'(x) + \\frac{1}{2} f''(x) h + O(h^2)$$\n",
        "\n",
        "- Backward difference approximation with second order error:\n",
        "\n",
        "  $$f'(x) \\approx \\frac{f(x) - f(x-h)}{h} = f'(x) - \\frac{1}{2} f''(x) h + O(h^2)$$\n",
        "\n",
        "where $h$ is the step size of the approximation and $O(h^2)$ denotes the second order error term, which represents the difference between the true value of the derivative and the approximation.\n",
        "\n",
        "The forward and backward difference approximations can be used to compute the derivative of a function at a point, provided that the function is differentiable and continuous in the neighborhood of the point.\n",
        "\n",
        "In practice, the choice of step size $h$ is a tradeoff between accuracy and computational cost, as smaller step sizes generally lead to more accurate approximations but require more function evaluations.\n",
        "\n",
        "Note that these approximations assume that the second derivative of the function is continuous and bounded, and that the step size $h$ is sufficiently small. In general, higher order approximations can be obtained by including additional terms in the Taylor series expansion.\n"
      ],
      "metadata": {
        "id": "xbaBlHHrcIAx"
      }
    },
    {
      "cell_type": "markdown",
      "source": [
        "# Taylor Series for Finite Difference Approximations (Including Third Order Error)\n",
        "\n",
        "In addition to the second order error terms, the Taylor series expansions for finite difference approximations can also include third order error terms:\n",
        "\n",
        "- Forward difference approximation with third order error:\n",
        "\n",
        "  $$f'(x) \\approx \\frac{-3f(x) + 4f(x+h) - f(x+2h)}{2h} = f'(x) + \\frac{1}{3} f'''(x) h^2 + O(h^3)$$\n",
        "\n",
        "- Backward difference approximation with third order error:\n",
        "\n",
        "  $$f'(x) \\approx \\frac{3f(x) - 4f(x-h) + f(x-2h)}{2h} = f'(x) - \\frac{1}{3} f'''(x) h^2 + O(h^3)$$\n",
        "\n",
        "where $h$ is the step size of the approximation, $O(h^2)$ denotes the second order error term, and $O(h^3)$ denotes the third order error term.\n",
        "\n",
        "The third order error term represents the difference between the true value of the derivative and the approximation, and is proportional to $h^2$. As a result, the third order approximation is generally more accurate than the second order approximation for small values of $h$.\n",
        "\n",
        "The forward and backward difference approximations can be used to compute the derivative of a function at a point, provided that the function is differentiable and continuous in the neighborhood of the point.\n",
        "\n",
        "In practice, the choice of step size $h$ is a tradeoff between accuracy and computational cost, as smaller step sizes generally lead to more accurate approximations but require more function evaluations.\n",
        "\n",
        "Note that these approximations assume that the third derivative of the function is continuous and bounded, and that the step size $h$ is sufficiently small. In general, higher order approximations can be obtained by including additional terms in the Taylor series expansion.\n"
      ],
      "metadata": {
        "id": "Nk1rgufqc_Rt"
      }
    },
    {
      "cell_type": "markdown",
      "source": [
        "## Factorials\n",
        "- $1!=1$\n",
        "- $2!=2\\cdot 1=2$\n",
        "- $3!=3\\cdot 2\\cdot 1=6$\n",
        "- $4!=4\\cdot 3\\cdot 2\\cdot 1=24$\n",
        "- $5!=5\\cdot 4\\cdot 3\\cdot 2\\cdot 1=120$\n"
      ],
      "metadata": {
        "id": "DCeCsWefhOst"
      }
    },
    {
      "cell_type": "markdown",
      "source": [
        "Symbol | Definition\n",
        "------- | --------\n",
        "$\\lim$ | The limit of a function as $x$ approaches a certain value\n",
        "$\\Delta x$ | The change in $x$\n",
        "$\\Delta y$ | The change in $y$\n",
        "$f(x)$ | The value of the function $f$ at the point $x$\n",
        "$f'(x)$ | The derivative of $f$ at the point $x$\n",
        "$f''(x)$ | The second derivative of $f$ at the point $x$\n",
        "$f'''(x)$ | The third derivative of $f$ at the point $x$\n",
        "$\\int_a^b f(x) dx$ | The definite integral of $f$ from $a$ to $b$\n",
        "$\\int f(x) dx$ | The indefinite integral of $f$\n",
        "$\\frac{dx}{dx}$ | The symbol for the derivative with respect to $x$\n",
        "$\\frac{dy}{dx}$ | The symbol for the derivative of $y$ with respect to $x$\n",
        "$\\frac{d^2y}{dx^2}$ | The symbol for the second derivative of $y$ with respect to $x$\n",
        "$\\frac{d^3y}{dx^3}$ | The symbol for the third derivative of $y$ with respect to $x$\n",
        "$\\nabla$ | The gradient operator\n",
        "$\\nabla f$ | The gradient of the function $f$\n",
        "$\\nabla^2 f$ | The Laplacian of the function $f$\n"
      ],
      "metadata": {
        "id": "-uM7jz4KHMMN"
      }
    },
    {
      "cell_type": "markdown",
      "source": [],
      "metadata": {
        "id": "tOjOaJg_anAz"
      }
    },
    {
      "cell_type": "markdown",
      "source": [
        "# Symbols of Linear Algebra\n",
        "\n",
        "Here are some common symbols used in linear algebra:\n",
        "\n",
        "Symbol | Definition\n",
        "------- | --------\n",
        "$\\mathbf{A}$ | A matrix\n",
        "$\\mathbf{B}$ | Another matrix\n",
        "$\\mathbf{x}$ | A column vector\n",
        "$\\mathbf{y}$ | Another column vector\n",
        "$\\mathbf{z}$ | Yet another column vector\n",
        "$\\mathbf{0}$ | The zero vector\n",
        "$\\mathbf{1}$ | The vector of all ones\n",
        "$\\mathbf{e}_i$ | The standard basis vector of length $n$ in the $i$th direction\n",
        "$\\mathbf{A}^\\top$ | The transpose of $\\mathbf{A}$\n",
        "$\\mathrm{Tr}(\\mathbf{A})$ | The trace of $\\mathbf{A}$\n",
        "$\\det(\\mathbf{A})$ | The determinant of $\\mathbf{A}$\n",
        "$\\mathbf{A}^{-1}$ | The inverse of $\\mathbf{A}$\n",
        "$\\lambda_1, \\lambda_2, \\ldots, \\lambda_n$ | The eigenvalues of $\\mathbf{A}$\n",
        "$\\mathbf{v}_1, \\mathbf{v}_2, \\ldots, \\mathbf{v}_n$ | The eigenvectors of $\\mathbf{A}$\n",
        "$\\langle \\mathbf{v}, \\mathbf{w} \\rangle$ | The inner product of $\\mathbf{v}$ and $\\mathbf{w}$\n",
        "$\\|\\mathbf{v}\\|$ | The norm (length) of $\\mathbf{v}$\n",
        "$\\mathbf{v} \\perp \\mathbf{w}$ | $\\mathbf{v}$ is orthogonal to $\\mathbf{w}$\n",
        "$\\mathrm{proj}_{\\mathbf{v}}(\\mathbf{w})$ | The projection of $\\mathbf{w}$ onto $\\mathbf{v}$\n",
        "$\\mathrm{GS}(\\mathbf{v}_1, \\mathbf{v}_2, \\ldots, \\mathbf{v}_n)$ | The Gram-Schmidt process of $\\mathbf{v}_1, \\mathbf{v}_2, \\ldots, \\mathbf{v}_n$\n"
      ],
      "metadata": {
        "id": "zwxmK7SAZjTl"
      }
    },
    {
      "cell_type": "markdown",
      "source": [
        "# Symbols of Linear Algebra\n",
        "\n",
        "Here are some common and less common symbols used in linear algebra:\n",
        "\n",
        "Symbol | Definition\n",
        "-------| --------\n",
        "$\\mathbf{A}$ | A matrix\n",
        "$\\mathbf{B}$ | Another matrix\n",
        "$\\mathbf{x}$ | A column vector\n",
        "$\\mathbf{y}$ | Another column vector\n",
        "$\\mathbf{z}$ | Yet another column vector\n",
        "$\\mathbf{0}$ | The zero vector\n",
        "$\\mathbf{1}$ | The vector of all ones\n",
        "$\\mathbf{e}_i$ | The standard basis vector of length $n$ in the $i$th direction\n",
        "$\\mathbf{A}^\\top$ | The transpose of $\\mathbf{A}$\n",
        "$\\mathrm{Tr}(\\mathbf{A})$ | The trace of $\\mathbf{A}$\n",
        "$\\det(\\mathbf{A})$ | The determinant of $\\mathbf{A}$\n",
        "$\\mathbf{A}^{-1}$ | The inverse of $\\mathbf{A}$\n",
        "$\\lambda_1, \\lambda_2, \\ldots, \\lambda_n$ | The eigenvalues of $\\mathbf{A}$\n",
        "$\\mathbf{v}_1, \\mathbf{v}_2, \\ldots, \\mathbf{v}_n$ | The eigenvectors of $\\mathbf{A}$\n",
        "$\\langle \\mathbf{v}, \\mathbf{w} \\rangle$ | The inner product of $\\mathbf{v}$ and $\\mathbf{w}$\n",
        "$\\|\\mathbf{v}\\|$ | The norm (length) of $\\mathbf{v}$\n",
        "$\\mathbf{v} \\perp \\mathbf{w}$ | $\\mathbf{v}$ is orthogonal to $\\mathbf{w}$\n",
        "$\\mathrm{proj}_{\\mathbf{v}}(\\mathbf{w})$ | The projection of $\\mathbf{w}$ onto $\\mathbf{v}$\n",
        "$\\mathrm{GS}(\\mathbf{v}_1, \\mathbf{v}_2, \\ldots, \\mathbf{v}_n)$ | The Gram-Schmidt process of $\\mathbf{v}_1, \\mathbf{v}_2, \\ldots, \\mathbf{v}_n$\n",
        "$\\mathbf{A}^\\dagger$ | The pseudoinverse of $\\mathbf{A}$\n",
        "$\\mathbf{A}^\\#$ | The Moore-Penrose inverse of $\\mathbf{A}$\n",
        "$\\mathbf{A}^*$ | The conjugate transpose (Hermitian transpose) of $\\mathbf{A}$\n",
        "$\\mathbf{A}^{(k)}$ | The $k$th matrix power of $\\mathbf{A}$, i.e., $\\mathbf{A}$ multiplied by itself $k$ times\n",
        "$\\mathbf{I}$ | The identity matrix\n",
        "$\\mathbf{J}$ | The matrix of all ones\n",
        "$\\mathbf{D}$ | A diagonal matrix\n",
        "$\\mathbf{L}$ | A lower triangular matrix\n",
        "$\\mathbf{U}$ | An upper triangular matrix\n",
        "$\\mathbf{P}$ | A permutation matrix\n",
        "$\\mathbf{Q}$ | An orthogonal matrix\n",
        "$\\mathbf{R}$ | A rotation matrix\n",
        "$\\mathbf{S}$ | A skew-symmetric matrix\n",
        "$\\mathbf{H}$ | A Hermitian matrix\n",
        "$\\mathbf{G}$ | A positive-definite matrix\n",
        "$\\mathbf{K}$ | A positive semi-definite matrix\n",
        "$\\mathbf{T\n"
      ],
      "metadata": {
        "id": "CmTLXST3bJPd"
      }
    },
    {
      "cell_type": "markdown",
      "source": [
        "# Symbols of Pre-Algebra, Algebra I and II, and College Algebra\n",
        "\n",
        "Here are some common symbols used in pre-algebra, algebra I and II, and college algebra:\n",
        "\n",
        "Symbol | Definition\n",
        "-------| --------\n",
        "$x$ | A variable representing a number\n",
        "$a$, $b$, $c$ | Constants representing numbers\n",
        "$+$ | Addition\n",
        "$-$ | Subtraction\n",
        "$\\times$ | Multiplication\n",
        "$\\div$ | Division\n",
        "$=$ | Equality\n",
        "$\\neq$ | Inequality (not equal to)\n",
        "$\\lt$ | Less than\n",
        "$\\gt$ | Greater than\n",
        "$\\leq$ | Less than or equal to\n",
        "$\\geq$ | Greater than or equal to\n",
        "$()$ | Parentheses (used to group operations)\n",
        "$|$ | Divides (e.g., $a \\mid b$ means $a$ divides $b$)\n",
        "$\\sqrt{x}$ | The square root of $x$\n",
        "$x^2$ | The square of $x$\n",
        "$x^n$ | The $n$th power of $x$\n",
        "$2x$, $3x$, $\\ldots$ | Coefficients of $x$\n",
        "$a_n$, $a_{n-1}$, $\\ldots$, $a_1$ | Coefficients of a polynomial in descending order of degree\n",
        "$\\sum_{i=1}^n a_i$ | The sum of the terms $a_1$, $a_2$, $\\ldots$, $a_n$\n",
        "$\\prod_{i=1}^n a_i$ | The product of the terms $a_1$, $a_2$, $\\ldots$, $a_n$\n",
        "$f(x)$ | A function of $x$\n",
        "$\\frac{dy}{dx}$ | The derivative of $y$ with respect to $x$\n",
        "$\\frac{d^2y}{dx^2}$ | The second derivative of $y$ with respect to $x$\n",
        "$\\log_b x$ | The logarithm of $x$ with base $b$\n",
        "$\\ln x$ | The natural logarithm of $x$\n",
        "$e$ | Euler's number (approximately 2.71828)\n",
        "$!$ | Factorial (e.g., $5!$ means 5 factorial, or $5 \\times 4 \\times 3 \\times 2 \\times 1$)\n",
        "$\\binom{n}{k}$ | The binomial coefficient, or the number of ways to choose $k$ items from a set of $n$ items (read as \"n choose k\")\n",
        "$\\infty$ | Infinity\n",
        "$\\mathbb{N}$ | The set of natural numbers (positive integers)\n",
        "$\\mathbb{Z}$ | The set of integers (positive and negative)\n",
        "$\\mathbb{Q}$ | The set of rational numbers (fractions)\n",
        "$\\mathbb{R}$ | The set of real numbers (numbers that can be represented on a number line)\n",
        "$\\mathbb{C}$ | The set of complex numbers (numbers of the form $a + bi$, where $a$ and $b$ are real numbers and $i$ is the imaginary unit, defined as $\\sqrt{-1}$)\n"
      ],
      "metadata": {
        "id": "KnW_hJ8xbxWo"
      }
    },
    {
      "cell_type": "markdown",
      "source": [
        "# Symbols of Trigonometry, Geometry, Pre-Calculus, and Calculus 1\n",
        "\n",
        "Here are some common symbols used in trigonometry, geometry, pre-calculus, and calculus 1:\n",
        "\n",
        "Symbol | Definition\n",
        "-------| --------\n",
        "$\\theta$ | An angle\n",
        "$r$ | The radius or distance from the origin to a point in polar coordinates\n",
        "$(x,y)$ | A point in Cartesian coordinates\n",
        "$(r,\\theta)$ | A point in polar coordinates\n",
        "$\\sin \\theta$ | The sine of $\\theta$\n",
        "$\\cos \\theta$ | The cosine of $\\theta$\n",
        "$\\tan \\theta$ | The tangent of $\\theta$\n",
        "$\\csc \\theta$ | The cosecant of $\\theta$ (the reciprocal of the sine)\n",
        "$\\sec \\theta$ | The secant of $\\theta$ (the reciprocal of the cosine)\n",
        "$\\cot \\theta$ | The cotangent of $\\theta$ (the reciprocal of the tangent)\n",
        "$\\arcsin x$ | The inverse sine of $x$ (the angle whose sine is $x$)\n",
        "$\\arccos x$ | The inverse cosine of $x$ (the angle whose cosine is $x$)\n",
        "$\\arctan x$ | The inverse tangent of $x$ (the angle whose tangent is $x$)\n",
        "$\\triangle ABC$ | A triangle with vertices $A$, $B$, and $C$\n",
        "$a$, $b$, $c$ | The side lengths of a triangle\n",
        "$h$ | The height of a triangle\n",
        "$r$ | The radius of a circle\n",
        "$A$ | The area of a shape\n",
        "$P$ | The perimeter or circumference of a shape\n",
        "$V$ | The volume of a shape\n",
        "$\\lim_{x \\to a} f(x)$ | The limit of $f(x)$ as $x$ approaches $a$\n",
        "$f'(x)$ | The derivative of $f(x)$ with respect to $x$\n",
        "$f''(x)$ | The second derivative of $f(x)$ with respect to $x$\n",
        "$\\int f(x) dx$ | The indefinite integral of $f(x)$\n",
        "$\\int_a^b f(x) dx$ | The definite integral of $f(x)$ from $a$ to $b$\n",
        "$\\frac{d}{dx}$ | The operator for taking the derivative with respect to $x$\n",
        "$\\frac{d^n y}{dx^n}$ | The $n$th derivative of $y$ with respect to $x$\n",
        "$\\Sigma$ | The summation symbol (e.g., $\\sum_{k=1}^n k$ means the sum of the integers from 1 to $n$)\n",
        "$\\prod$ | The product symbol (e.g., $\\prod_{i=1}^n a_i$ means the product of the numbers $a_1, a_2, \\ldots, a_n$)\n",
        "$\\log_b x$ | The logarithm of $x$ with base $b$\n",
        "$e$ | Euler's number (approximately 2.71828)\n",
        "$\\infty$ | Infinity\n",
        "$\\mathbb{N}$ | The set of natural numbers (positive integers)\n",
        "$\\mathbb{Z}$ | The set of integers (positive and negative)\n",
        "$\\mathbb{Q}$ | The set of rational numbers (fractions)\n",
        "$\\mathbb{R}$ | The set of real numbers (numbers that can be represented on a number line)\n",
        "$\\mathbb{C}$ | The set of complex numbers (numbers of the form $a + bi$, where $a$ and $b$ are real numbers and $i\n"
      ],
      "metadata": {
        "id": "kT3n0MuecNab"
      }
    },
    {
      "cell_type": "markdown",
      "source": [
        "# Symbols of Calculus 2 and Calculus 3\n",
        "\n",
        "Here are some common symbols used in Calculus 2 and Calculus 3:\n",
        "\n",
        "Symbol | Definition\n",
        "-------| --------\n",
        "$u$, $v$, $w$ | Functions of $x$\n",
        "$du$, $dv$, $dw$ | Infinitesimal changes in $u$, $v$, $w$\n",
        "$y=f(u)$ | A function of $u$\n",
        "$\\frac{dy}{du}$ | The derivative of $y$ with respect to $u$\n",
        "$\\frac{dy}{dx}$ | The derivative of $y$ with respect to $x$\n",
        "$\\frac{du}{dx}$ | The derivative of $u$ with respect to $x$\n",
        "$\\frac{d}{dx} \\left[f(u)\\right]$ | The chain rule for derivatives\n",
        "$\\int u \\, dv$ | Integration by parts\n",
        "$\\int_a^b f(x) \\, dx$ | The definite integral of $f(x)$ from $a$ to $b$\n",
        "$\\int_{-\\infty}^\\infty f(x) \\, dx$ | The improper integral of $f(x)$ over the entire real line\n",
        "$\\int f(u(x)) \\, u'(x) \\, dx$ | The substitution rule for integrals\n",
        "$\\int_0^{2\\pi} f(\\theta) \\, d\\theta$ | The definite integral of $f(\\theta)$ over the interval $[0,2\\pi]$\n",
        "$\\iint_R f(x,y) \\, dA$ | The double integral of $f(x,y)$ over the region $R$ in the $xy$-plane\n",
        "$\\iiint_E f(x,y,z) \\, dV$ | The triple integral of $f(x,y,z)$ over the solid region $E$ in three-dimensional space\n",
        "$\\frac{\\partial f}{\\partial x}$ | The partial derivative of $f(x,y)$ with respect to $x$\n",
        "$\\frac{\\partial^2 f}{\\partial x^2}$ | The second partial derivative of $f(x,y)$ with respect to $x$\n",
        "$\\nabla$ | The gradient operator\n",
        "$\\nabla f$ | The gradient of the function $f(x,y)$ or $f(x,y,z)$\n",
        "$\\nabla \\cdot \\mathbf{F}$ | The divergence of the vector field $\\mathbf{F}$\n",
        "$\\nabla \\times \\mathbf{F}$ | The curl of the vector field $\\mathbf{F}$\n",
        "$\\iint_S \\mathbf{F} \\cdot d\\mathbf{S}$ | The flux of the vector field $\\mathbf{F}$ across the surface $S$\n",
        "$\\iint_R f(x,y) \\, dA$ | The double integral of $f(x,y)$ over the region $R$ in the $xy$-plane\n",
        "$\\iiint_E f(x,y,z) \\, dV$ | The triple integral of $f(x,y,z)$ over the solid region $E$ in three-dimensional space\n",
        "$\\iint_S \\mathbf{F} \\cdot d\\mathbf{S}$ | The flux of the vector field $\\mathbf{F}$ across the surface $S$\n",
        "$\\oint_C \\mathbf{F} \\cdot d\\mathbf{r}$ | The line integral of the vector field $\\mathbf{F}$ along the curve $C$\n",
        "$\\oint_C f(x,y) \\, ds$ | The line integral of the scalar function $f(x,y)$ along the curve\n"
      ],
      "metadata": {
        "id": "8K0tYE9Dc38W"
      }
    },
    {
      "cell_type": "markdown",
      "source": [
        "# Transcendental Numbers\n",
        "\n",
        "Here are some common transcendental numbers:\n",
        "\n",
        "Number | Definition\n",
        "-------| --------\n",
        "$\\pi$ | The ratio of the circumference of a circle to its diameter\n",
        "$e$ | The base of the natural logarithm\n",
        "$\\phi$ | The golden ratio, equal to $\\frac{1 + \\sqrt{5}}{2}$\n",
        "$\\gamma$ | The Euler-Mascheroni constant, approximately equal to $0.5772156649$\n",
        "$2^{1/2}$ | The square root of 2\n",
        "$3^{1/2}$ | The square root of 3\n",
        "$\\ln 2$ | The natural logarithm of 2\n",
        "$\\ln 10$ | The natural logarithm of 10\n",
        "$e^\\pi$ | Euler's number raised to the power of $\\pi$\n",
        "$\\pi^e$ | $\\pi$ raised to the power of $e$\n",
        "$e^\\gamma$ | Euler's number raised to the power of $\\gamma$\n",
        "$\\pi^\\gamma$ | $\\pi$ raised to the power of $\\gamma$\n",
        "$\\mathrm{Li}_2(\\frac{1}{2})$ | The dilogarithm function evaluated at $\\frac{1}{2}$\n",
        "$\\mathrm{G}(1)$ | Catalan's constant, equal to $\\sum_{n=0}^\\infty \\frac{(-1)^n}{(2n+1)^2} \\approx 0.91596559417$\n",
        "$\\zeta(3)$ | The Apéry's constant, equal to $\\sum_{n=1}^\\infty \\frac{1}{n^3} \\approx 1.20205690316$\n"
      ],
      "metadata": {
        "id": "jPl-a_vWeNWl"
      }
    },
    {
      "cell_type": "markdown",
      "source": [
        "# Transcendental Numbers\n",
        "\n",
        "Here are some more common transcendental numbers:\n",
        "\n",
        "Number | Definition\n",
        "-------| --------\n",
        "$2^e$ | $2$ raised to the power of $e$\n",
        "$3^e$ | $3$ raised to the power of $e$\n",
        "$\\pi^2$ | $\\pi$ squared\n",
        "$\\pi^3$ | $\\pi$ cubed\n",
        "$e^{\\pi/2}$ | Euler's number raised to the power of $\\frac{\\pi}{2}$\n",
        "$e^{\\sqrt{2}}$ | Euler's number raised to the power of $\\sqrt{2}$\n",
        "$e^\\phi$ | Euler's number raised to the power of the golden ratio\n",
        "$\\pi^\\phi$ | $\\pi$ raised to the power of the golden ratio\n",
        "$\\ln(\\phi)$ | The natural logarithm of the golden ratio\n",
        "$\\ln(\\pi)$ | The natural logarithm of $\\pi$\n",
        "$\\sqrt{\\pi}$ | The square root of $\\pi$\n",
        "$\\sqrt{e}$ | The square root of Euler's number\n",
        "$e^{e}$ | Euler's number raised to the power of itself\n",
        "$\\pi^e$ | $\\pi$ raised to the power of $e$\n",
        "$e^\\gamma$ | Euler's number raised to the power of the Euler-Mascheroni constant\n",
        "$\\pi^\\gamma$ | $\\pi$ raised to the power of the Euler-Mascheroni constant\n",
        "$2\\pi$ | Twice the value of $\\pi$\n",
        "$\\frac{\\pi}{2}$ | Half the value of $\\pi$\n",
        "$\\frac{\\pi}{4}$ | One quarter of the value of $\\pi$\n",
        "$\\sqrt{2\\pi}$ | The square root of two times the value of $\\pi$\n",
        "$\\pi^{-1}$ | The reciprocal of $\\pi$\n",
        "$e^{-1}$ | The reciprocal of Euler's number\n",
        "$\\sqrt{2\\pi e}$ | The square root of two times the value of $\\pi$ times Euler's number\n",
        "$\\ln(\\sqrt{2\\pi e})$ | The natural logarithm of the square root of two times the value of $\\pi$ times Euler's number\n",
        "$\\zeta(2)$ | The Riemann zeta function evaluated at $2$, equal to $\\sum_{n=1}^\\infty \\frac{1}{n^2} = \\frac{\\pi^2}{6}$\n",
        "$\\zeta(4)$ | The Riemann zeta function evaluated at $4$, equal to $\\sum_{n=1}^\\infty \\frac{1}{n^4}$\n",
        "$\\zeta(5)$ | The Riemann zeta function evaluated at $5$, equal to $\\sum_{n=1}^\\infty \\frac{1}{n^5}$\n",
        "$\\zeta(6)$ | The Riemann zeta function evaluated at $6$, equal to $\\sum_{n=1}^\\infty \\frac{1}{n^6}$\n",
        "$\\zeta(7)$ | The Riemann zeta function evaluated at $7$, equal to $\\sum_{n=1}^\\infty \\frac{1}{n^7}$\n",
        "$\\zeta(8)$ | The Riemann zeta function evaluated at $8$, equal to $\\sum_{n=1}^\\infty \\frac{1}{n^8}$\n",
        "$\\zeta(9)$ | The Riemann zeta function evaluated at $9$, equal to $\\sum_{n=1}^\\infty \\frac{1}{n^9}\n"
      ],
      "metadata": {
        "id": "-6xRJRLAevQ3"
      }
    },
    {
      "cell_type": "markdown",
      "source": [
        "## Abstract Algebra\n",
        "- **Group theory**: $(G,\\cdot)$\n",
        "- **Ring theory**: $(R,+,\\cdot)$\n",
        "\n",
        "## Analysis\n",
        "- **Real analysis**: $\\lim_{x\\to a}f(x)$, $f'(x)$, $\\int_a^b f(x) dx$\n",
        "- **Complex analysis**: $f(z)$, $\\oint_C f(z) dz$, $\\text{Res}(f,z)$\n",
        "- **Functional analysis**: $\\langle x,y\\rangle$, $\\|x\\|$, $T:X\\to Y$\n",
        "- **Fourier analysis**: $\\hat{f}(\\xi)$, $\\mathcal{F}(f)$\n",
        "\n",
        "## Combinatorics\n",
        "- **Graph theory**: $G=(V,E)$, $\\text{deg}(v)$, $\\chi(G)$\n",
        "- **Combinatorial optimization**: $\\text{max}\\{c^Tx : Ax \\leq b\\}$, $TSP$\n",
        "- **Combinatorial designs**: $t$-design, $q$-ary code\n",
        "\n",
        "## Geometry\n",
        "- **Differential geometry**: $\\gamma(t)$, $T(\\gamma)$, $K(p)$\n",
        "- **Topology**: $X$, $U$, $\\text{int}(U)$\n",
        "- **Algebraic geometry**: $f(x,y)$, $V(f)$, $\\text{deg}(f)$\n",
        "\n",
        "## Number Theory\n",
        "- **Analytic number theory**: $\\zeta(s)$, $\\psi(x)$, $E(x)$\n",
        "- **Algebraic number theory**: $\\mathcal{O}_K$, $Cl(K)$, $h_K$\n",
        "- **Diophantine equations**: $ax+by=c$, $x^2+y^2=z^2$, $E:y^2=x^3+ax+b$\n"
      ],
      "metadata": {
        "id": "SeYBUun7q8na"
      }
    },
    {
      "cell_type": "markdown",
      "source": [
        "# Symbols of Graph Theory\n",
        "\n",
        "Here are some common symbols used in graph theory:\n",
        "\n",
        "Symbol | Definition\n",
        "-------| --------\n",
        "$G$ | A graph\n",
        "$V(G)$ | The set of vertices of the graph $G$\n",
        "$E(G)$ | The set of edges of the graph $G$\n",
        "$(u,v)$ | An edge of the graph $G$ connecting vertices $u$ and $v$\n",
        "$K_n$ | The complete graph on $n$ vertices\n",
        "$C_n$ | The cycle graph on $n$ vertices\n",
        "$P_n$ | The path graph on $n$ vertices\n",
        "$G \\cup H$ | The union of graphs $G$ and $H$\n",
        "$G \\cap H$ | The intersection of graphs $G$ and $H$\n",
        "$G \\setminus H$ | The difference of graphs $G$ and $H$\n",
        "$G + H$ | The disjoint union of graphs $G$ and $H$\n",
        "$\\Delta(G)$ | The maximum degree of any vertex in the graph $G$\n",
        "$\\delta(G)$ | The minimum degree of any vertex in the graph $G$\n",
        "$N_G(v)$ | The neighborhood of the vertex $v$ in the graph $G$\n",
        "$K_{m,n}$ | The complete bipartite graph with $m$ vertices in one partition and $n$ vertices in the other partition\n",
        "$K_n - e$ | The graph obtained by deleting an edge $e$ from the complete graph $K_n$\n",
        "$K_n - v$ | The graph obtained by deleting a vertex $v$ from the complete graph $K_n$\n",
        "$P_n * P_m$ | The cartesian product of the path graph $P_n$ and the path graph $P_m$\n",
        "$G \\times H$ | The cartesian product of graphs $G$ and $H$\n",
        "$G \\to H$ | The existence of a homomorphism from graph $G$ to graph $H$\n",
        "$G \\leftrightarrow H$ | The existence of an isomorphism between graphs $G$ and $H$\n",
        "$G^{(k)}$ | The $k$-th power of graph $G$, obtained by adding edges between vertices whose shortest path has length at most $k$\n",
        "$\\chi(G)$ | The chromatic number of graph $G$, the minimum number of colors needed to color the vertices of $G$ so that no two adjacent vertices have the same color\n",
        "$\\omega(G)$ | The clique number of graph $G$, the maximum number of pairwise adjacent vertices in $G$\n",
        "$\\tau(G)$ | The independence number of graph $G$, the maximum number of pairwise non-adjacent vertices in $G$\n",
        "$\\chi'(G)$ | The chromatic index of graph $G$, the minimum number of colors needed to color the edges of $G$ so that no two adjacent edges have the same color\n",
        "$\\lambda(G)$ | The edge covering number of graph $G$, the minimum number of edges needed to cover all the vertices of $G$\n",
        "$\\overline{G}$ | The complement of graph $G$, the graph with the same vertex set as $G$ but with an edge between any two vertices that are not adjacent in $G$\n"
      ],
      "metadata": {
        "id": "9DRNfZOdrfPm"
      }
    },
    {
      "cell_type": "markdown",
      "source": [
        "# Symbols of Graph Theory\n",
        "\n",
        "Here are some more symbols used in graph theory:\n",
        "\n",
        "Symbol | Definition\n",
        "-------| --------\n",
        "$G'$ | The complement of the graph $G$\n",
        "$G[X]$ | The subgraph of $G$ induced by the vertex set $X$\n",
        "$G - v$ | The subgraph of $G$ obtained by removing vertex $v$ and all edges incident to $v$\n",
        "$G - e$ | The subgraph of $G$ obtained by removing edge $e$\n",
        "$G \\setminus e$ | The subgraph of $G$ obtained by removing edge $e$\n",
        "$G + e$ | The graph obtained by adding edge $e$ to graph $G$\n",
        "$G + v$ | The graph obtained by adding vertex $v$ to graph $G$\n",
        "$\\overline{K_n}$ | The null graph, a graph with $n$ vertices and no edges\n",
        "$\\overline{G - e}$ | The graph obtained by adding an edge complementary to $e$ to the graph $G - e$\n",
        "$G \\cup H$ | The union of graphs $G$ and $H$\n",
        "$G \\cap H$ | The intersection of graphs $G$ and $H$\n",
        "$G \\Delta H$ | The symmetric difference of graphs $G$ and $H$\n",
        "$G \\lor H$ | The join of graphs $G$ and $H$\n",
        "$G \\land H$ | The intersection of graphs $G$ and $H$ viewed as subgraphs of the complete graph on the same vertex set\n",
        "$G \\times H$ | The cartesian product of graphs $G$ and $H$\n",
        "$\\chi(G)$ | The chromatic number of graph $G$, the minimum number of colors needed to color the vertices of $G$ so that no two adjacent vertices have the same color\n",
        "$\\chi'(G)$ | The chromatic index of graph $G$, the minimum number of colors needed to color the edges of $G$ so that no two adjacent edges have the same color\n",
        "$\\omega(G)$ | The clique number of graph $G$, the maximum number of pairwise adjacent vertices in $G$\n",
        "$\\alpha(G)$ | The independence number of graph $G$, the maximum number of pairwise non-adjacent vertices in $G$\n",
        "$\\beta(G)$ | The vertex covering number of graph $G$, the minimum number of vertices needed to cover all the edges of $G$\n",
        "$\\gamma(G)$ | The domination number of graph $G$, the minimum number of vertices needed to dominate all the vertices of $G$\n",
        "$\\lambda(G)$ | The edge covering number of graph $G$, the minimum number of edges needed to cover all the vertices of $G$\n",
        "$\\tau(G)$ | The matching number of graph $G$, the maximum number of pairwise non-adjacent edges in $G$\n",
        "$N_G(v)$ | The neighborhood of the vertex $v$ in the graph $G$\n",
        "$d_G(v)$ | The degree of the vertex $v$ in the graph $G$\n",
        "$\\Delta(G)$ | The maximum degree of any vertex in the graph $G$\n",
        "$\\delta(G)$ | The minimum degree of any vertex in the graph $G$\n",
        "$\\kappa(G)$ | The vertex connectivity of graph $G$, the minimum number of vertices that need to be removed to disconnect $G$\n",
        "$\\kappa'(G)$ | The edge connectivity of graph $G$, the minimum number of edges that need to be removed to disconnect $G$\n",
        "$G \\to H$ | The existence of a homomorphism from graph $G$ to graph $H$\n",
        "$G \\\n"
      ],
      "metadata": {
        "id": "3RlHjH8YrjDa"
      }
    },
    {
      "cell_type": "markdown",
      "source": [
        "# Symbols of Machine Learning\n",
        "\n",
        "Here are some common symbols used in machine learning:\n",
        "\n",
        "Symbol | Definition\n",
        "-------| --------\n",
        "$\\mathbf{x}$ | An input feature vector\n",
        "$\\mathbf{y}$ | A target vector\n",
        "$\\mathbf{w}$ | A weight vector\n",
        "$\\mathbf{b}$ | A bias vector\n",
        "$\\hat{\\mathbf{y}}$ | A predicted output vector\n",
        "$y_i$ | The $i$-th component of the target vector\n",
        "$\\hat{y}_i$ | The $i$-th component of the predicted output vector\n",
        "$x_{ij}$ | The $j$-th feature of the $i$-th input\n",
        "$w_j$ | The $j$-th component of the weight vector\n",
        "$b$ | The bias term\n",
        "$X$ | The matrix of input features\n",
        "$Y$ | The matrix of target values\n",
        "$\\mathcal{D}$ | The dataset, consisting of pairs of input vectors and their corresponding target vectors\n",
        "$L(\\theta)$ | The loss function, which measures the difference between the predicted output and the actual output for a given set of parameters $\\theta$\n",
        "$\\theta$ | The parameters of a machine learning model\n",
        "$H(\\cdot)$ | A hypothesis function or model, which takes input features and outputs predictions\n",
        "$f(\\cdot)$ | An activation function\n",
        "$z_i$ | The output of a neuron before applying the activation function\n",
        "$g(\\cdot)$ | A function used for regularization, such as L1 or L2 regularization\n",
        "$\\nabla_\\theta L(\\theta)$ | The gradient of the loss function with respect to the model parameters\n",
        "$\\alpha$ | The learning rate, a hyperparameter that controls the step size of gradient descent\n",
        "$\\eta$ | The momentum coefficient, a hyperparameter that controls the amount of influence previous gradient steps have on the current step\n",
        "$\\epsilon$ | A small constant used to avoid division by zero in some calculations\n",
        "$\\mathcal{N}(\\mu,\\,\\sigma^{2})$ | A normal distribution with mean $\\mu$ and variance $\\sigma^2$\n",
        "$\\mathcal{U}(a,b)$ | A uniform distribution between $a$ and $b$\n",
        "$\\mathcal{B}(p)$ | A Bernoulli distribution with probability $p$ of success\n",
        "$\\mathcal{L}(y_i, \\hat{y}_i)$ | The loss function for a single data point, which measures the difference between the predicted output and the actual output\n",
        "$\\mathcal{L}(\\mathbf{y}, \\hat{\\mathbf{y}})$ | The loss function for the entire dataset, which is the sum of the losses for each individual data point\n",
        "$\\mathbf{W}$ | The weight matrix\n",
        "$\\mathbf{X}$ | The matrix of input features\n",
        "$\\mathbf{Y}$ | The matrix of target values\n",
        "$\\mathbf{Z}$ | The matrix of outputs before applying the activation function\n"
      ],
      "metadata": {
        "id": "peSWkPPbr7Hd"
      }
    },
    {
      "cell_type": "markdown",
      "source": [
        "# Symbols of Deep Learning\n",
        "\n",
        "Here are some common symbols used in deep learning:\n",
        "\n",
        "Symbol | Definition\n",
        "-------| --------\n",
        "$\\mathbf{x}$ | An input feature vector\n",
        "$\\mathbf{y}$ | A target vector\n",
        "$\\mathbf{w}$ | A weight vector\n",
        "$\\mathbf{b}$ | A bias vector\n",
        "$\\mathbf{z}$ | A hidden layer vector\n",
        "$\\mathbf{a}$ | An activation vector\n",
        "$\\mathbf{h}$ | A hidden state vector\n",
        "$\\hat{\\mathbf{y}}$ | A predicted output vector\n",
        "$y_i$ | The $i$-th component of the target vector\n",
        "$\\hat{y}_i$ | The $i$-th component of the predicted output vector\n",
        "$x_{ij}$ | The $j$-th feature of the $i$-th input\n",
        "$w_{ij}$ | The weight from the $j$-th neuron in the $(l-1)$-th layer to the $i$-th neuron in the $l$-th layer\n",
        "$b_i$ | The bias term for the $i$-th neuron in a layer\n",
        "$z_i$ | The input to the activation function for the $i$-th neuron in a layer\n",
        "$a_i$ | The output of the activation function for the $i$-th neuron in a layer\n",
        "$h_t$ | The hidden state of a recurrent neural network at time $t$\n",
        "$X$ | The matrix of input features\n",
        "$Y$ | The matrix of target values\n",
        "$\\mathcal{D}$ | The dataset, consisting of pairs of input vectors and their corresponding target vectors\n",
        "$L(\\theta)$ | The loss function, which measures the difference between the predicted output and the actual output for a given set of parameters $\\theta$\n",
        "$\\theta$ | The parameters of a deep learning model\n",
        "$H(\\cdot)$ | A deep learning model, which takes input features and outputs predictions\n",
        "$f(\\cdot)$ | An activation function used in deep learning, such as ReLU or sigmoid\n",
        "$\\nabla_\\theta L(\\theta)$ | The gradient of the loss function with respect to the model parameters\n",
        "$\\alpha$ | The learning rate, a hyperparameter that controls the step size of gradient descent\n",
        "$\\eta$ | The momentum coefficient, a hyperparameter that controls the amount of influence previous gradient steps have on the current step\n",
        "$\\epsilon$ | A small constant used to avoid division by zero in some calculations\n",
        "$W^{(l)}$ | The weight matrix for layer $l$\n",
        "$b^{(l)}$ | The bias vector for layer $l$\n",
        "$\\mathbf{Z}^{(l)}$ | The vector of inputs to layer $l$\n",
        "$\\mathbf{A}^{(l)}$ | The vector of activations for layer $l$\n",
        "$\\mathbf{H}^{(t)}$ | The hidden state vector of a recurrent neural network at time $t$\n",
        "$\\mathbf{W}^{(h)}$ | The weight matrix for the hidden state in a recurrent neural network\n",
        "$\\mathbf{W}^{(x)}$ | The weight matrix for the input in a recurrent neural network\n",
        "$\\mathbf{b}^{(h)}$ | The bias vector for the hidden state in a recurrent neural network\n",
        "$\\mathbf{b}^{(x)}$ | The bias vector for the input in a recurrent neural network\n"
      ],
      "metadata": {
        "id": "s-HuF9unsClF"
      }
    },
    {
      "cell_type": "markdown",
      "source": [
        "# Important Equations in Machine Learning\n",
        "\n",
        "Here are some important equations in machine learning, along with a summary of each:\n",
        "\n",
        "Equation | Summary\n",
        "-------- | -------\n",
        "$\\mathbf{\\hat{y}} = H(\\mathbf{x}; \\theta)$ | This equation represents the hypothesis function, which takes input features $\\mathbf{x}$ and model parameters $\\theta$ and outputs predictions $\\mathbf{\\hat{y}}$.\n",
        "$\\mathcal{L}(\\theta) = \\frac{1}{m}\\sum_{i=1}^{m}L(\\mathbf{\\hat{y}}^{(i)}, \\mathbf{y}^{(i)})$ | This equation represents the average loss over a dataset of size $m$, where $L(\\cdot)$ is the loss function, $\\mathbf{\\hat{y}}^{(i)}$ is the predicted output for the $i$-th data point, and $\\mathbf{y}^{(i)}$ is the actual output for the $i$-th data point.\n",
        "$\\nabla_{\\theta} \\mathcal{L}(\\theta)$ | This equation represents the gradient of the loss function with respect to the model parameters $\\theta$. It is used to update the model parameters during training.\n",
        "$\\theta_{t+1} = \\theta_{t} - \\alpha \\nabla_{\\theta} \\mathcal{L}(\\theta_t)$ | This equation represents the update rule for gradient descent, where $\\alpha$ is the learning rate and $\\theta_t$ represents the model parameters at iteration $t$.\n",
        "$\\mathbf{w} \\leftarrow \\mathbf{w} - \\alpha \\nabla_{\\mathbf{w}}\\mathcal{L}(\\mathbf{w}, b)$ | This equation represents the update rule for the weight vector $\\mathbf{w}$ in a linear regression model, where $\\alpha$ is the learning rate, $b$ is the bias term, and $\\nabla_{\\mathbf{w}}\\mathcal{L}(\\mathbf{w}, b)$ is the gradient of the loss function with respect to the weight vector.\n",
        "$\\mathbf{w} \\leftarrow \\mathbf{w} - \\alpha \\frac{1}{n}\\sum_{i=1}^{n}\\nabla_{\\mathbf{w}}\\mathcal{L}(\\mathbf{w}, \\mathbf{x}^{(i)}, y^{(i)})$ | This equation represents the update rule for the weight vector $\\mathbf{w}$ in a linear regression model using stochastic gradient descent (SGD), where $\\alpha$ is the learning rate, $n$ is the batch size, $\\mathbf{x}^{(i)}$ is the $i$-th input feature vector, $y^{(i)}$ is the corresponding target value, and $\\nabla_{\\mathbf{w}}\\mathcal{L}(\\mathbf{w}, \\mathbf{x}^{(i)}, y^{(i)})$ is the gradient of the loss function with respect to the weight vector for the $i$-th data point.\n",
        "$\\mathbf{z}^{(l)} = \\mathbf{W}^{(l)}\\mathbf{a}^{(l-1)} + \\mathbf{b}^{(l)}$ | This equation represents the linear transformation of the $l$-th layer in a neural network, where $\\math\n"
      ],
      "metadata": {
        "id": "Qtn5DPL1sITv"
      }
    },
    {
      "cell_type": "markdown",
      "source": [
        "# Important Equations in Deep Learning\n",
        "\n",
        "Here are some important equations in deep learning, along with a summary of each:\n",
        "\n",
        "Equation | Summary\n",
        "-------- | -------\n",
        "$\\mathbf{z}^{(l)} = \\mathbf{W}^{(l)}\\mathbf{a}^{(l-1)} + \\mathbf{b}^{(l)}$ | This equation represents the linear transformation of the $l$-th layer in a neural network, where $\\mathbf{W}^{(l)}$ is the weight matrix, $\\mathbf{a}^{(l-1)}$ is the activation vector from the previous layer, and $\\mathbf{b}^{(l)}$ is the bias vector.\n",
        "$\\mathbf{a}^{(l)} = f(\\mathbf{z}^{(l)})$ | This equation represents the activation function applied to the output of the $l$-th layer in a neural network, where $f(\\cdot)$ is a non-linear function such as ReLU or sigmoid.\n",
        "$\\mathbf{h}_t = f(\\mathbf{W}^{(h)}\\mathbf{h}_{t-1} + \\mathbf{W}^{(x)}\\mathbf{x}_t + \\mathbf{b})$ | This equation represents the hidden state update for a recurrent neural network, where $\\mathbf{h}_t$ is the hidden state at time $t$, $\\mathbf{x}_t$ is the input at time $t$, $\\mathbf{W}^{(h)}$ is the weight matrix for the hidden state, $\\mathbf{W}^{(x)}$ is the weight matrix for the input, $\\mathbf{b}$ is the bias vector, and $f(\\cdot)$ is a non-linear activation function.\n",
        "$\\mathbf{\\hat{y}} = \\sigma(\\mathbf{W}^{(L)}\\mathbf{a}^{(L-1)} + \\mathbf{b}^{(L)})$ | This equation represents the output layer of a neural network, where $\\mathbf{W}^{(L)}$ is the weight matrix for the output layer, $\\mathbf{a}^{(L-1)}$ is the activation vector from the previous layer, $\\mathbf{b}^{(L)}$ is the bias vector, and $\\sigma(\\cdot)$ is the activation function used for binary classification (sigmoid) or multi-class classification (softmax).\n",
        "$\\mathbf{z}_{i,j} = \\sum_{k=1}^{C^{(l-1)}}\\sum_{p=0}^{F-1}\\sum_{q=0}^{F-1}\\mathbf{a}_{(i+p),(j+q),k}^{(l-1)}\\mathbf{W}_{p,q,k,j}^{(l)} + b_j^{(l)}$ | This equation represents the convolutional layer of a neural network, where $\\mathbf{a}_{(i+p),(j+q),k}^{(l-1)}$ is the activation at pixel location $(i+p, j+q)$ for channel $k$ in the previous layer, $\\mathbf{W}_{p,q,k,j}^{(l)}$ is the weight for the convolutional filter at position $(p,q)$ for channel $k$ in the current layer, $b_j^{(l)}$ is the bias for filter $j$ in the current layer\n"
      ],
      "metadata": {
        "id": "bXxY7VBBsp9b"
      }
    },
    {
      "cell_type": "markdown",
      "source": [
        "# Important Equations in Deep Learning\n",
        "\n",
        "Here are some important equations in deep learning, along with a summary of each:\n",
        "\n",
        "Equation                                          | Summary\n",
        "------------------------------------------------- | -------\n",
        "$\\mathbf{z}^{(l)} = \\mathbf{W}^{(l)}\\mathbf{a}^{(l-1)} + \\mathbf{b}^{(l)}$ | This equation represents the linear transformation of the $l$-th layer in a neural network, where $\\mathbf{W}^{(l)}$ is the weight matrix, $\\mathbf{a}^{(l-1)}$ is the activation vector from the previous layer, and $\\mathbf{b}^{(l)}$ is the bias vector.\n",
        "$\\mathbf{a}^{(l)} = f(\\mathbf{z}^{(l)})$         | This equation represents the activation function applied to the output of the $l$-th layer in a neural network, where $f(\\cdot)$ is a non-linear function such as ReLU or sigmoid.\n",
        "$\\mathbf{h}_t = f(\\mathbf{W}^{(h)}\\mathbf{h}_{t-1} + \\mathbf{W}^{(x)}\\mathbf{x}_t + \\mathbf{b})$ | This equation represents the hidden state update for a recurrent neural network, where $\\mathbf{h}_t$ is the hidden state at time $t$, $\\mathbf{x}_t$ is the input at time $t$, $\\mathbf{W}^{(h)}$ is the weight matrix for the hidden state, $\\mathbf{W}^{(x)}$ is the weight matrix for the input, $\\mathbf{b}$ is the bias vector, and $f(\\cdot)$ is a non-linear activation function.\n",
        "$\\mathbf{\\hat{y}} = \\sigma(\\mathbf{W}^{(L)}\\mathbf{a}^{(L-1)} + \\mathbf{b}^{(L)})$ | This equation represents the output layer of a neural network, where $\\mathbf{W}^{(L)}$ is the weight matrix for the output layer, $\\mathbf{a}^{(L-1)}$ is the activation vector from the previous layer, $\\mathbf{b}^{(L)}$ is the bias vector, and $\\sigma(\\cdot)$ is the activation function used for binary classification (sigmoid) or multi-class classification (softmax).\n",
        "$\\mathbf{z}_{i,j} = \\sum_{k=1}^{C^{(l-1)}}\\sum_{p=0}^{F-1}\\sum_{q=0}^{F-1}\\mathbf{a}_{(i+p),(j+q),k}^{(l-1)}\\mathbf{W}_{p,q,k,j}^{(l)} + b_j^{(l)}$ | This equation represents the convolutional layer of a neural network, where $\\mathbf{a}_{(i+p),(j+q),k}^{(l-1)}$ is the activation at pixel location $(i+p, j+q)$ for channel $k$ in the previous layer, $\\mathbf{W}_{p,q,k,j}^{(l)}$ is the weight for the convolutional filter at position $(p,q)$ for channel $k$ in the current layer, $b_j^{(l)}$ is the bias for filter $j\n"
      ],
      "metadata": {
        "id": "d-S762fztEBq"
      }
    },
    {
      "cell_type": "markdown",
      "source": [
        "f'(x) ≈ [f(x+dx) - f(x-dx)] / (2*dx)\n",
        "\n",
        "\n",
        "f'(x) ≈ [f(x+h) - f(x-h)] / (2*h)"
      ],
      "metadata": {
        "id": "-1JE31ZoyVaG"
      }
    },
    {
      "cell_type": "code",
      "source": [],
      "metadata": {
        "id": "OaQl3_99719G"
      },
      "execution_count": null,
      "outputs": []
    },
    {
      "cell_type": "markdown",
      "source": [],
      "metadata": {
        "id": "i2KTIuH2wOk4"
      }
    },
    {
      "cell_type": "code",
      "source": [
        "import matplotlib.pyplot as plt\n",
        "import numpy as np\n",
        "\n",
        "def f(x):\n",
        "    return x**2\n",
        "\n",
        "x = np.linspace(0, 2, 100)\n",
        "y = f(x)\n",
        "plt.plot(x, y, label='f(x)')\n",
        "\n",
        "x0 = 1\n",
        "y0 = f(x0)\n",
        "h = 0.1\n",
        "m = (f(x0+h) - f(x0-h)) / (2*h)\n",
        "b = y0 - m*x0\n",
        "tangent = m*x + b\n",
        "plt.plot(x, tangent, label='Tangent line')\n",
        "\n",
        "plt.xlim(0, 2)\n",
        "plt.ylim(0, 4)\n",
        "plt.xlabel('x')\n",
        "plt.ylabel('y')\n",
        "plt.legend()\n",
        "\n",
        "# add slope and point of tangency annotation\n",
        "s = 'Slope: {:.2f}'.format(m)\n",
        "p = 'Point of tangency: ({:.2f}, {:.2f})'.format(x0, y0)\n",
        "plt.annotate(s, xy=(1.2, 2.5), fontsize=12)\n",
        "plt.annotate(p, xy=(1.2, 2), fontsize=12)\n",
        "\n",
        "plt.show()\n"
      ],
      "metadata": {
        "colab": {
          "base_uri": "https://localhost:8080/",
          "height": 455
        },
        "id": "2JPAneUVxkS1",
        "outputId": "a979d41f-71ef-4f65-ffd8-f2c628e37767"
      },
      "execution_count": null,
      "outputs": [
        {
          "output_type": "display_data",
          "data": {
            "text/plain": [
              "<Figure size 640x480 with 1 Axes>"
            ],
            "image/png": "[encoded data removed]"
          },
          "metadata": {}
        }
      ]
    },
    {
      "cell_type": "code",
      "source": [],
      "metadata": {
        "id": "JMA1OLkqcLQX"
      },
      "execution_count": null,
      "outputs": []
    }
  ]
}