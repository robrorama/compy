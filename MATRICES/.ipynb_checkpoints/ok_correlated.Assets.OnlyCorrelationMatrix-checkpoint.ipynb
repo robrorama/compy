{
 "cells": [
  {
   "cell_type": "code",
   "execution_count": 4,
   "id": "44accb9b-f3ad-4c02-a728-74174c9ade66",
   "metadata": {
    "scrolled": true
   },
   "outputs": [],
   "source": [
    "import scipy.cluster.hierarchy as sch\n",
    "import numpy as np\n",
    "\n",
    "def plot_clustered_correlation_heatmap(combined_pct_change_df):\n",
    "    # Calculate the correlation matrix\n",
    "    corr_matrix = combined_pct_change_df.corr()\n",
    "    \n",
    "    # Convert correlation matrix to distance matrix (1 - absolute correlation)\n",
    "    distance_matrix = 1 - np.abs(corr_matrix)\n",
    "    \n",
    "    # Perform hierarchical clustering\n",
    "    linkage = sch.linkage(distance_matrix, method='complete')\n",
    "    dendro = sch.dendrogram(linkage, no_plot=True)\n",
    "    \n",
    "    # Reorder the correlation matrix according to the clustering\n",
    "    reordered_corr_matrix = corr_matrix.iloc[dendro['leaves'], dendro['leaves']]\n",
    "    \n",
    "    # Plot the reordered correlation heatmap\n",
    "    plt.figure(figsize=(48, 48))  # Increase figure size for better readability\n",
    "    sns.heatmap(reordered_corr_matrix, annot=True, cmap='RdBu', center=0, \n",
    "                annot_kws={\"size\": 6}, fmt='.2f', cbar_kws={\"shrink\": 0.5}, \n",
    "                linewidths=0.1, square=True)\n",
    "    \n",
    "    # Set axis labels and title\n",
    "    plt.xticks(rotation=45, ha=\"right\", fontsize=14)\n",
    "    plt.yticks(fontsize=14)\n",
    "    plt.title('Clustered Correlation Heatmap of Percentage Changes', fontsize=18)\n",
    "    plt.tight_layout()  # Adjust layout to fit everything\n",
    "    \n",
    "    # Save the plot to a PDF\n",
    "    pdf.savefig()  # Save the heatmap to the PDF\n",
    "    plt.close()"
   ]
  },
  {
   "cell_type": "code",
   "execution_count": 5,
   "id": "44c903dd-f3f2-4d62-b83a-e3f973a503f4",
   "metadata": {},
   "outputs": [
    {
     "ename": "NameError",
     "evalue": "name 'current_assets' is not defined",
     "output_type": "error",
     "traceback": [
      "\u001b[0;31m---------------------------------------------------------------------------\u001b[0m",
      "\u001b[0;31mNameError\u001b[0m                                 Traceback (most recent call last)",
      "Cell \u001b[0;32mIn[5], line 43\u001b[0m\n\u001b[1;32m     40\u001b[0m             \u001b[38;5;28mprint\u001b[39m(\u001b[38;5;124mf\u001b[39m\u001b[38;5;124m\"\u001b[39m\u001b[38;5;124mError downloading \u001b[39m\u001b[38;5;132;01m{\u001b[39;00mticker\u001b[38;5;132;01m}\u001b[39;00m\u001b[38;5;124m: \u001b[39m\u001b[38;5;132;01m{\u001b[39;00me\u001b[38;5;132;01m}\u001b[39;00m\u001b[38;5;124m\"\u001b[39m)\n\u001b[1;32m     41\u001b[0m             \u001b[38;5;28;01mreturn\u001b[39;00m \u001b[38;5;28;01mNone\u001b[39;00m\n\u001b[0;32m---> 43\u001b[0m all_assets \u001b[38;5;241m=\u001b[39m \u001b[43mcurrent_assets\u001b[49m\n\u001b[1;32m     44\u001b[0m \u001b[38;5;124;03m'''\u001b[39;00m\n\u001b[1;32m     45\u001b[0m \u001b[38;5;124;03mall_assets = [\u001b[39;00m\n\u001b[1;32m     46\u001b[0m \u001b[38;5;124;03m    'SPY', 'USO', 'GLD', 'TLT', 'XLU', 'XLK', 'XLY', 'DBC', 'EEM', 'ZROZ',\u001b[39;00m\n\u001b[0;32m   (...)\u001b[0m\n\u001b[1;32m     52\u001b[0m \u001b[38;5;124;03m    'CT=F', 'CC=F', 'LB=F', 'LE=F', 'HE=F', 'GF=F']\u001b[39;00m\n\u001b[1;32m     53\u001b[0m \u001b[38;5;124;03m'''\u001b[39;00m\n\u001b[1;32m     55\u001b[0m \u001b[38;5;124;03m'''\u001b[39;00m\n\u001b[1;32m     56\u001b[0m \u001b[38;5;124;03mall_assets = [\u001b[39;00m\n\u001b[1;32m     57\u001b[0m \u001b[38;5;124;03m    'SPY', 'USO', 'GC.F', 'TLT', 'XLU', 'XLK', 'XLY', 'DBC', 'EEM', 'ZROZ', \u001b[39;00m\n\u001b[0;32m   (...)\u001b[0m\n\u001b[1;32m     63\u001b[0m \u001b[38;5;124;03m    'CT=F', 'CC=F', 'LB=F', 'LE=F', 'HE=F', 'GF=F']\u001b[39;00m\n\u001b[1;32m     64\u001b[0m \u001b[38;5;124;03m'''\u001b[39;00m \n",
      "\u001b[0;31mNameError\u001b[0m: name 'current_assets' is not defined"
     ]
    }
   ],
   "source": [
    "import os\n",
    "import yfinance as yf\n",
    "import pandas as pd\n",
    "import matplotlib.pyplot as plt\n",
    "import seaborn as sns\n",
    "from datetime import datetime\n",
    "from concurrent.futures import ThreadPoolExecutor, as_completed\n",
    "from matplotlib.backends.backend_pdf import PdfPages\n",
    "\n",
    "# Create a folder for today's date\n",
    "today = datetime.today().strftime('%Y-%m-%d')\n",
    "data_folder = f\"data/{today}\"\n",
    "output_folder = f\"output/{today}\"\n",
    "os.makedirs(data_folder, exist_ok=True)\n",
    "os.makedirs(output_folder, exist_ok=True)\n",
    "\n",
    "# Function to download or load cached data\n",
    "def get_data(ticker):\n",
    "    file_path = f\"{data_folder}/{ticker}.csv\"\n",
    "    \n",
    "    # Check if file already exists\n",
    "    if os.path.exists(file_path):\n",
    "        print(f\"Loading {ticker} data from {file_path}\")\n",
    "        try:\n",
    "            return pd.read_csv(file_path, index_col=0, parse_dates=True)\n",
    "        except Exception as e:\n",
    "            print(f\"Error loading cached file for {ticker}: {e}\")\n",
    "            return None\n",
    "    else:\n",
    "        print(f\"Downloading {ticker} data and saving to {file_path}\")\n",
    "        try:\n",
    "            df = yf.download(ticker, period='5y')\n",
    "            if not df.empty:\n",
    "                df.to_csv(file_path)\n",
    "                return df\n",
    "            else:\n",
    "                print(f\"Downloaded data for {ticker} is empty, skipping.\")\n",
    "                return None\n",
    "        except Exception as e:\n",
    "            print(f\"Error downloading {ticker}: {e}\")\n",
    "            return None\n",
    "\n",
    "all_assets = current_assets\n",
    "'''\n",
    "all_assets = [\n",
    "    'SPY', 'USO', 'GLD', 'TLT', 'XLU', 'XLK', 'XLY', 'DBC', 'EEM', 'ZROZ',\n",
    "    'IEF', 'XLP', 'XLRE', 'PDBC', 'GSG', 'DBA', 'JJM', 'COPX', 'TIP', 'UUP',\n",
    "    'ITB', 'EFA', 'VWO', 'XLC', 'XLV', 'XLF', 'XLI', 'XLB', 'XLE', 'XLRE',\n",
    "    'XLP', 'XLY', 'XLK', 'XLU', 'FXE', 'FXY', 'FXB', 'FXC', 'FXA', 'FXF',\n",
    "    'CNY=X', 'CL=F', 'BZ=F', 'NG=F', 'RB=F', 'HO=F', 'GC=F', 'SI=F', 'HG=F',\n",
    "    'PL=F', 'PA=F', 'ALI=F', 'ZC=F', 'ZW=F', 'ZS=F', 'KC=F', 'SB=F',\n",
    "    'CT=F', 'CC=F', 'LB=F', 'LE=F', 'HE=F', 'GF=F']\n",
    "'''\n",
    "\n",
    "'''\n",
    "all_assets = [\n",
    "    'SPY', 'USO', 'GC.F', 'TLT', 'XLU', 'XLK', 'XLY', 'DBC', 'EEM', 'ZROZ', \n",
    "    'IEF', 'XLP', 'XLRE', 'PDBC', 'GSG', 'DBA', 'JJM', 'COPX', 'TIP', 'UUP', \n",
    "    'ITB', 'EFA', 'VWO', 'XLC', 'XLV', 'XLF', 'XLI', 'XLB', 'XLE', 'XLRE', \n",
    "    'XLP', 'XLY', 'XLK', 'XLU', 'FXE', 'FXY', 'FXB', 'FXC', 'FXA', 'FXF', \n",
    "    'CNY', 'CL=F', 'BZ=F', 'NG=F', 'RB=F', 'HO=F', 'GC=F', 'SI=F', 'HG=F', \n",
    "    'PL=F', 'PA=F', 'ALI=F', 'ZC=F', 'ZW=F', 'ZS=F', 'KC=F', 'SB=F', \n",
    "    'CT=F', 'CC=F', 'LB=F', 'LE=F', 'HE=F', 'GF=F']\n",
    "''' \n",
    "# List of assets\n",
    "#all_assets = [\n",
    "#    'SPY', 'USO', 'GC=F', 'TLT', 'XLU', 'XLK', 'XLY', 'DBC', 'EEM', 'ZROZ', \n",
    "#    'IEF', 'XLP', 'XLRE', 'PDBC', 'GSG', 'DBA', 'JJM', 'COPX', 'TIP', 'UUP', \n",
    "#    'ITB', 'EFA', 'VWO', 'XLC', 'XLV', 'XLF', 'XLI', 'XLB', 'XLE', 'XLRE', \n",
    "#    'XLP', 'XLY', 'XLK', 'XLU', 'FXE', 'FXY', 'FXB', 'FXC', 'FXA', 'FXF', \n",
    "#    'CNY', 'CL=F', 'BZ=F', 'NG=F', 'RB=F', 'HO=F', 'GC=F', 'SI=F', 'HG=F', \n",
    "#    'PL=F', 'PA=F', 'ALI=F', 'ZC=F', 'ZW=F', 'ZS=F', 'KC=F', 'SB=F', \n",
    "#    'CT=F', 'CC=F', 'LB=F', 'LE=F', 'HE=F', 'GF=F'\n",
    "#]\n",
    "\n",
    "# Function to download or load data for all assets in parallel\n",
    "def download_data_parallel(assets):\n",
    "    df_dict = {}\n",
    "    failed_tickers = []\n",
    "    with ThreadPoolExecutor(max_workers=1) as executor:\n",
    "        future_to_ticker = {executor.submit(get_data, asset): asset for asset in assets}\n",
    "        for future in as_completed(future_to_ticker):\n",
    "            asset = future_to_ticker[future]\n",
    "            try:\n",
    "                df = future.result()\n",
    "                if df is not None and 'Adj Close' in df.columns:\n",
    "                    df_dict[asset] = df['Adj Close']\n",
    "                else:\n",
    "                    print(f\"Data for {asset} is invalid or missing 'Adj Close', skipping.\")\n",
    "                    failed_tickers.append(asset)\n",
    "            except Exception as e:\n",
    "                print(f\"Error processing {asset}: {e}\")\n",
    "                failed_tickers.append(asset)\n",
    "    if failed_tickers:\n",
    "        print(f\"Failed to download data for: {', '.join(failed_tickers)}\")\n",
    "    return df_dict\n",
    "\n",
    "df_dict = download_data_parallel(all_assets)\n",
    "\n",
    "# Ensure we have valid data before continuing\n",
    "if len(df_dict) == 0:\n",
    "    print(\"No valid data was downloaded, exiting...\")\n",
    "else:\n",
    "    # Calculate percentage change for all assets\n",
    "    pct_change_dict = {}\n",
    "    for asset, df in df_dict.items():\n",
    "        if not df.empty:\n",
    "            pct_change = df.pct_change().dropna()\n",
    "            if not pct_change.empty:\n",
    "                pct_change_dict[asset] = pct_change\n",
    "\n",
    "    # Convert to DataFrame for easier handling\n",
    "    combined_pct_change_df = pd.DataFrame(pct_change_dict).dropna()\n",
    "\n",
    "    # Check if the combined DataFrame is still valid\n",
    "    if combined_pct_change_df.empty:\n",
    "        print(\"No valid percentage change data, exiting...\")\n",
    "    else:\n",
    "        # Save correlation heatmap to a PDF\n",
    "        \n",
    "        with PdfPages(f\"{output_folder}/correlation_matrix.pdf\") as pdf:\n",
    "            \n",
    "            plot_clustered_correlation_heatmap(combined_pct_change_df)\n",
    "\n",
    "            \n",
    "\n",
    "        print(f\"Correlation matrix saved to {output_folder}/correlation_matrix.pdf\")"
   ]
  },
  {
   "cell_type": "code",
   "execution_count": 6,
   "id": "64e8cf3b-d01e-4c0e-a7d8-29600ce6d6f5",
   "metadata": {
    "scrolled": true
   },
   "outputs": [
    {
     "name": "stdout",
     "output_type": "stream",
     "text": [
      "Loading SPY data from data/2024-11-24/SPY.csv\n",
      "Loading USO data from data/2024-11-24/USO.csv\n",
      "Loading GLD data from data/2024-11-24/GLD.csv\n",
      "Loading TLT data from data/2024-11-24/TLT.csv\n",
      "Loading XLU data from data/2024-11-24/XLU.csv\n",
      "Loading XLK data from data/2024-11-24/XLK.csv\n",
      "Loading XLY data from data/2024-11-24/XLY.csv\n",
      "Loading DBC data from data/2024-11-24/DBC.csv\n",
      "Loading EEM data from data/2024-11-24/EEM.csv\n",
      "Loading ZROZ data from data/2024-11-24/ZROZ.csv\n",
      "Loading IEF data from data/2024-11-24/IEF.csv\n",
      "Loading XLP data from data/2024-11-24/XLP.csv\n",
      "Loading XLRE data from data/2024-11-24/XLRE.csv\n",
      "Loading PDBC data from data/2024-11-24/PDBC.csv\n",
      "Loading GSG data from data/2024-11-24/GSG.csv\n",
      "Loading DBA data from data/2024-11-24/DBA.csv\n",
      "Loading JJM data from data/2024-11-24/JJM.csv\n",
      "Loading COPX data from data/2024-11-24/COPX.csv\n",
      "Loading TIP data from data/2024-11-24/TIP.csv\n",
      "Loading UUP data from data/2024-11-24/UUP.csv\n",
      "Loading ITB data from data/2024-11-24/ITB.csv\n",
      "Loading EFA data from data/2024-11-24/EFA.csv\n",
      "Loading VWO data from data/2024-11-24/VWO.csv\n",
      "Loading XLC data from data/2024-11-24/XLC.csv\n",
      "Loading XLV data from data/2024-11-24/XLV.csv\n",
      "Loading XLF data from data/2024-11-24/XLF.csv\n",
      "Loading XLI data from data/2024-11-24/XLI.csv\n",
      "Loading XLB data from data/2024-11-24/XLB.csv\n",
      "Loading XLE data from data/2024-11-24/XLE.csv\n",
      "Loading XLRE data from data/2024-11-24/XLRE.csv\n",
      "Loading XLP data from data/2024-11-24/XLP.csv\n",
      "Loading XLY data from data/2024-11-24/XLY.csv\n",
      "Loading XLK data from data/2024-11-24/XLK.csv\n",
      "Loading XLU data from data/2024-11-24/XLU.csv\n",
      "Loading FXE data from data/2024-11-24/FXE.csv\n",
      "Loading FXY data from data/2024-11-24/FXY.csv\n",
      "Loading FXB data from data/2024-11-24/FXB.csv\n",
      "Loading FXC data from data/2024-11-24/FXC.csv\n",
      "Loading FXA data from data/2024-11-24/FXA.csv\n",
      "Loading FXF data from data/2024-11-24/FXF.csv\n",
      "Loading CNY=X data from data/2024-11-24/CNY=X.csv\n",
      "Loading CL=F data from data/2024-11-24/CL=F.csv\n",
      "Loading BZ=F data from data/2024-11-24/BZ=F.csv\n",
      "Loading NG=F data from data/2024-11-24/NG=F.csv\n",
      "Loading RB=F data from data/2024-11-24/RB=F.csv\n",
      "Loading HO=F data from data/2024-11-24/HO=F.csv\n",
      "Loading GC=F data from data/2024-11-24/GC=F.csv\n",
      "Loading SI=F data from data/2024-11-24/SI=F.csv\n",
      "Loading HG=F data from data/2024-11-24/HG=F.csv\n",
      "Loading PL=F data from data/2024-11-24/PL=F.csv\n",
      "Loading PA=F data from data/2024-11-24/PA=F.csv\n",
      "Loading ALI=F data from data/2024-11-24/ALI=F.csv\n",
      "Loading ZC=F data from data/2024-11-24/ZC=F.csv\n",
      "Loading ZW=F data from data/2024-11-24/ZW=F.csv\n",
      "Loading ZS=F data from data/2024-11-24/ZS=F.csv\n",
      "Loading KC=F data from data/2024-11-24/KC=F.csv\n",
      "Loading SB=F data from data/2024-11-24/SB=F.csv\n",
      "Loading CT=F data from data/2024-11-24/CT=F.csv\n",
      "Loading CC=F data from data/2024-11-24/CC=F.csv\n",
      "Loading LB=F data from data/2024-11-24/LB=F.csv\n",
      "Loading LE=F data from data/2024-11-24/LE=F.csv\n",
      "Loading HE=F data from data/2024-11-24/HE=F.csv\n",
      "Loading GF=F data from data/2024-11-24/GF=F.csv\n",
      "Downloading TNX data and saving to data/2024-11-24/TNX.csv\n"
     ]
    },
    {
     "name": "stderr",
     "output_type": "stream",
     "text": [
      "[*********************100%%**********************]  1 of 1 completed\n",
      "\n",
      "1 Failed download:\n",
      "['TNX']: YFPricesMissingError('$%ticker%: possibly delisted; No price data found  (period=5y)')\n",
      "[*********************100%%**********************]  1 of 1 completed\n",
      "\n",
      "1 Failed download:\n",
      "['IRX']: YFPricesMissingError('$%ticker%: possibly delisted; No price data found  (period=5y)')\n"
     ]
    },
    {
     "name": "stdout",
     "output_type": "stream",
     "text": [
      "$TNX: possibly delisted; No price data found  (period=5y)\n",
      "Downloaded data for TNX is empty, skipping.\n",
      "Downloading IRX data and saving to data/2024-11-24/IRX.csv\n",
      "Data for TNX is invalid or missing 'Adj Close', skipping.\n",
      "$IRX: possibly delisted; No price data found  (period=5y)\n",
      "Downloaded data for IRX is empty, skipping.\n",
      "Downloading FVX data and saving to data/2024-11-24/FVX.csv\n",
      "Data for IRX is invalid or missing 'Adj Close', skipping.\n"
     ]
    },
    {
     "name": "stderr",
     "output_type": "stream",
     "text": [
      "[*********************100%%**********************]  1 of 1 completed\n",
      "\n",
      "1 Failed download:\n",
      "['FVX']: YFInvalidPeriodError(\"%ticker%: Period '5y' is invalid, must be one of ['1d', '5d']\")\n",
      "[*********************100%%**********************]  1 of 1 completed\n",
      "\n",
      "1 Failed download:\n",
      "['TYX']: YFPricesMissingError('$%ticker%: possibly delisted; No price data found  (period=5y)')\n"
     ]
    },
    {
     "name": "stdout",
     "output_type": "stream",
     "text": [
      "Downloaded data for FVX is empty, skipping.\n",
      "Data for FVX is invalid or missing 'Adj Close', skipping.\n",
      "Downloading TYX data and saving to data/2024-11-24/TYX.csv\n",
      "$TYX: possibly delisted; No price data found  (period=5y)\n",
      "Downloaded data for TYX is empty, skipping.\n",
      "Downloading DGS10 data and saving to data/2024-11-24/DGS10.csv\n",
      "Data for TYX is invalid or missing 'Adj Close', skipping.\n"
     ]
    },
    {
     "name": "stderr",
     "output_type": "stream",
     "text": [
      "[*********************100%%**********************]  1 of 1 completed\n",
      "\n",
      "1 Failed download:\n",
      "['DGS10']: YFChartError('%ticker%: No data found, symbol may be delisted')\n"
     ]
    },
    {
     "name": "stdout",
     "output_type": "stream",
     "text": [
      "Downloaded data for DGS10 is empty, skipping.\n",
      "Downloading DGS2 data and saving to data/2024-11-24/DGS2.csv\n",
      "Data for DGS10 is invalid or missing 'Adj Close', skipping.\n"
     ]
    },
    {
     "name": "stderr",
     "output_type": "stream",
     "text": [
      "[*********************100%%**********************]  1 of 1 completed\n",
      "\n",
      "1 Failed download:\n",
      "['DGS2']: YFChartError('%ticker%: No data found, symbol may be delisted')\n"
     ]
    },
    {
     "name": "stdout",
     "output_type": "stream",
     "text": [
      "Downloaded data for DGS2 is empty, skipping.\n",
      "Data for DGS2 is invalid or missing 'Adj Close', skipping.\n",
      "Downloading DGS5 data and saving to data/2024-11-24/DGS5.csv\n"
     ]
    },
    {
     "name": "stderr",
     "output_type": "stream",
     "text": [
      "[*********************100%%**********************]  1 of 1 completed\n",
      "\n",
      "1 Failed download:\n",
      "['DGS5']: YFChartError('%ticker%: No data found, symbol may be delisted')\n"
     ]
    },
    {
     "name": "stdout",
     "output_type": "stream",
     "text": [
      "Downloaded data for DGS5 is empty, skipping.\n",
      "Downloading DGS30 data and saving to data/2024-11-24/DGS30.csv\n",
      "Data for DGS5 is invalid or missing 'Adj Close', skipping.\n"
     ]
    },
    {
     "name": "stderr",
     "output_type": "stream",
     "text": [
      "[*********************100%%**********************]  1 of 1 completed\n",
      "\n",
      "1 Failed download:\n",
      "['DGS30']: YFChartError('%ticker%: No data found, symbol may be delisted')\n"
     ]
    },
    {
     "name": "stdout",
     "output_type": "stream",
     "text": [
      "Downloaded data for DGS30 is empty, skipping.\n",
      "Data for DGS30 is invalid or missing 'Adj Close', skipping.\n",
      "Downloading FEDFUNDS data and saving to data/2024-11-24/FEDFUNDS.csv\n"
     ]
    },
    {
     "name": "stderr",
     "output_type": "stream",
     "text": [
      "[*********************100%%**********************]  1 of 1 completed\n",
      "\n",
      "1 Failed download:\n",
      "['FEDFUNDS']: YFChartError('%ticker%: No data found, symbol may be delisted')\n"
     ]
    },
    {
     "name": "stdout",
     "output_type": "stream",
     "text": [
      "Downloaded data for FEDFUNDS is empty, skipping.\n",
      "Downloading GDPC1 data and saving to data/2024-11-24/GDPC1.csv\n",
      "Data for FEDFUNDS is invalid or missing 'Adj Close', skipping.\n"
     ]
    },
    {
     "name": "stderr",
     "output_type": "stream",
     "text": [
      "[*********************100%%**********************]  1 of 1 completed\n",
      "\n",
      "1 Failed download:\n",
      "['GDPC1']: YFChartError('%ticker%: No data found, symbol may be delisted')\n"
     ]
    },
    {
     "name": "stdout",
     "output_type": "stream",
     "text": [
      "Downloaded data for GDPC1 is empty, skipping.\n",
      "Downloading CPIAUCSL data and saving to data/2024-11-24/CPIAUCSL.csv\n",
      "Data for GDPC1 is invalid or missing 'Adj Close', skipping.\n"
     ]
    },
    {
     "name": "stderr",
     "output_type": "stream",
     "text": [
      "[*********************100%%**********************]  1 of 1 completed\n",
      "\n",
      "1 Failed download:\n",
      "['CPIAUCSL']: YFChartError('%ticker%: No data found, symbol may be delisted')\n"
     ]
    },
    {
     "name": "stdout",
     "output_type": "stream",
     "text": [
      "Downloaded data for CPIAUCSL is empty, skipping.\n",
      "Downloading UMCSENT data and saving to data/2024-11-24/UMCSENT.csv\n",
      "Data for CPIAUCSL is invalid or missing 'Adj Close', skipping.\n"
     ]
    },
    {
     "name": "stderr",
     "output_type": "stream",
     "text": [
      "[*********************100%%**********************]  1 of 1 completed\n",
      "\n",
      "1 Failed download:\n",
      "['UMCSENT']: YFChartError('%ticker%: No data found, symbol may be delisted')\n"
     ]
    },
    {
     "name": "stdout",
     "output_type": "stream",
     "text": [
      "Downloaded data for UMCSENT is empty, skipping.\n",
      "Downloading UNRATE data and saving to data/2024-11-24/UNRATE.csv\n",
      "Data for UMCSENT is invalid or missing 'Adj Close', skipping.\n"
     ]
    },
    {
     "name": "stderr",
     "output_type": "stream",
     "text": [
      "[*********************100%%**********************]  1 of 1 completed\n",
      "\n",
      "1 Failed download:\n",
      "['UNRATE']: YFChartError('%ticker%: No data found, symbol may be delisted')\n"
     ]
    },
    {
     "name": "stdout",
     "output_type": "stream",
     "text": [
      "Downloaded data for UNRATE is empty, skipping.\n",
      "Downloading INDPRO data and saving to data/2024-11-24/INDPRO.csv\n",
      "Data for UNRATE is invalid or missing 'Adj Close', skipping.\n"
     ]
    },
    {
     "name": "stderr",
     "output_type": "stream",
     "text": [
      "[*********************100%%**********************]  1 of 1 completed\n",
      "\n",
      "1 Failed download:\n",
      "['INDPRO']: YFChartError('%ticker%: No data found, symbol may be delisted')\n"
     ]
    },
    {
     "name": "stdout",
     "output_type": "stream",
     "text": [
      "Downloaded data for INDPRO is empty, skipping.\n",
      "Data for INDPRO is invalid or missing 'Adj Close', skipping.\n",
      "Downloading HOUST data and saving to data/2024-11-24/HOUST.csv\n"
     ]
    },
    {
     "name": "stderr",
     "output_type": "stream",
     "text": [
      "[*********************100%%**********************]  1 of 1 completed\n",
      "\n",
      "1 Failed download:\n",
      "['HOUST']: YFChartError('%ticker%: No data found, symbol may be delisted')\n"
     ]
    },
    {
     "name": "stdout",
     "output_type": "stream",
     "text": [
      "Downloaded data for HOUST is empty, skipping.\n",
      "Downloading PERMIT data and saving to data/2024-11-24/PERMIT.csv\n",
      "Data for HOUST is invalid or missing 'Adj Close', skipping.\n"
     ]
    },
    {
     "name": "stderr",
     "output_type": "stream",
     "text": [
      "[*********************100%%**********************]  1 of 1 completed\n",
      "\n",
      "1 Failed download:\n",
      "['PERMIT']: YFChartError('%ticker%: No data found, symbol may be delisted')\n"
     ]
    },
    {
     "name": "stdout",
     "output_type": "stream",
     "text": [
      "Downloaded data for PERMIT is empty, skipping.\n",
      "Data for PERMIT is invalid or missing 'Adj Close', skipping.\n",
      "Downloading NAPM data and saving to data/2024-11-24/NAPM.csv\n"
     ]
    },
    {
     "name": "stderr",
     "output_type": "stream",
     "text": [
      "[*********************100%%**********************]  1 of 1 completed\n",
      "\n",
      "1 Failed download:\n",
      "['NAPM']: YFChartError('%ticker%: No data found, symbol may be delisted')\n"
     ]
    },
    {
     "name": "stdout",
     "output_type": "stream",
     "text": [
      "Downloaded data for NAPM is empty, skipping.\n",
      "Downloading NAPMNOI data and saving to data/2024-11-24/NAPMNOI.csv\n",
      "Data for NAPM is invalid or missing 'Adj Close', skipping.\n"
     ]
    },
    {
     "name": "stderr",
     "output_type": "stream",
     "text": [
      "[*********************100%%**********************]  1 of 1 completed\n",
      "\n",
      "1 Failed download:\n",
      "['NAPMNOI']: YFChartError('%ticker%: No data found, symbol may be delisted')\n"
     ]
    },
    {
     "name": "stdout",
     "output_type": "stream",
     "text": [
      "Downloaded data for NAPMNOI is empty, skipping.\n",
      "Data for NAPMNOI is invalid or missing 'Adj Close', skipping.\n",
      "Downloading DCOILWTICO data and saving to data/2024-11-24/DCOILWTICO.csv\n"
     ]
    },
    {
     "name": "stderr",
     "output_type": "stream",
     "text": [
      "[*********************100%%**********************]  1 of 1 completed\n",
      "\n",
      "1 Failed download:\n",
      "['DCOILWTICO']: YFChartError('%ticker%: No data found, symbol may be delisted')\n",
      "[*********************100%%**********************]  1 of 1 completed\n",
      "\n",
      "1 Failed download:\n",
      "['VIX']: YFPricesMissingError('$%ticker%: possibly delisted; No price data found  (period=5y)')\n"
     ]
    },
    {
     "name": "stdout",
     "output_type": "stream",
     "text": [
      "Downloaded data for DCOILWTICO is empty, skipping.\n",
      "Loading XAR data from data/2024-11-24/XAR.csv\n",
      "Data for DCOILWTICO is invalid or missing 'Adj Close', skipping.\n",
      "Loading XTN data from data/2024-11-24/XTN.csv\n",
      "Loading XRT data from data/2024-11-24/XRT.csv\n",
      "Loading XHB data from data/2024-11-24/XHB.csv\n",
      "Loading XSD data from data/2024-11-24/XSD.csv\n",
      "Loading XBI data from data/2024-11-24/XBI.csv\n",
      "Downloading VIX data and saving to data/2024-11-24/VIX.csv\n",
      "$VIX: possibly delisted; No price data found  (period=5y)\n",
      "Downloaded data for VIX is empty, skipping.\n",
      "Data for VIX is invalid or missing 'Adj Close', skipping.\n",
      "Loading ^N225 data from data/2024-11-24/^N225.csv\n",
      "Loading HSI data from data/2024-11-24/HSI.csv\n",
      "Loading ^STOXX50E data from data/2024-11-24/^STOXX50E.csv\n",
      "Loading ^FTSE data from data/2024-11-24/^FTSE.csv\n",
      "Loading ^GDAXI data from data/2024-11-24/^GDAXI.csv\n",
      "Loading ^FCHI data from data/2024-11-24/^FCHI.csv\n",
      "Loading ^IBEX data from data/2024-11-24/^IBEX.csv\n",
      "Downloading SSMI data and saving to data/2024-11-24/SSMI.csv\n"
     ]
    },
    {
     "name": "stderr",
     "output_type": "stream",
     "text": [
      "[*********************100%%**********************]  1 of 1 completed\n",
      "\n",
      "1 Failed download:\n",
      "['SSMI']: YFChartError('%ticker%: No data found, symbol may be delisted')\n"
     ]
    },
    {
     "name": "stdout",
     "output_type": "stream",
     "text": [
      "Downloaded data for SSMI is empty, skipping.\n",
      "Data for SSMI is invalid or missing 'Adj Close', skipping.\n",
      "Downloading BVSP data and saving to data/2024-11-24/BVSP.csv\n"
     ]
    },
    {
     "name": "stderr",
     "output_type": "stream",
     "text": [
      "[*********************100%%**********************]  1 of 1 completed\n",
      "\n",
      "1 Failed download:\n",
      "['BVSP']: YFChartError('%ticker%: No data found, symbol may be delisted')\n",
      "[*********************100%%**********************]  1 of 1 completed\n",
      "\n",
      "1 Failed download:\n",
      "['MXX']: YFPricesMissingError('$%ticker%: possibly delisted; No price data found  (period=5y)')\n"
     ]
    },
    {
     "name": "stdout",
     "output_type": "stream",
     "text": [
      "Downloaded data for BVSP is empty, skipping.\n",
      "Downloading MXX data and saving to data/2024-11-24/MXX.csv\n",
      "Data for BVSP is invalid or missing 'Adj Close', skipping.\n",
      "$MXX: possibly delisted; No price data found  (period=5y)\n",
      "Downloaded data for MXX is empty, skipping.\n",
      "Data for MXX is invalid or missing 'Adj Close', skipping.\n",
      "Downloading MERV data and saving to data/2024-11-24/MERV.csv\n"
     ]
    },
    {
     "name": "stderr",
     "output_type": "stream",
     "text": [
      "[*********************100%%**********************]  1 of 1 completed\n",
      "\n",
      "1 Failed download:\n",
      "['MERV']: YFChartError('%ticker%: No data found, symbol may be delisted')\n"
     ]
    },
    {
     "name": "stdout",
     "output_type": "stream",
     "text": [
      "Downloaded data for MERV is empty, skipping.\n",
      "Downloading GSPTSE data and saving to data/2024-11-24/GSPTSE.csv\n",
      "Data for MERV is invalid or missing 'Adj Close', skipping.\n"
     ]
    },
    {
     "name": "stderr",
     "output_type": "stream",
     "text": [
      "[*********************100%%**********************]  1 of 1 completed\n",
      "\n",
      "1 Failed download:\n",
      "['GSPTSE']: YFChartError('%ticker%: No data found, symbol may be delisted')\n"
     ]
    },
    {
     "name": "stdout",
     "output_type": "stream",
     "text": [
      "Downloaded data for GSPTSE is empty, skipping.\n",
      "Data for GSPTSE is invalid or missing 'Adj Close', skipping.\n",
      "Downloading AXJO data and saving to data/2024-11-24/AXJO.csv\n"
     ]
    },
    {
     "name": "stderr",
     "output_type": "stream",
     "text": [
      "[*********************100%%**********************]  1 of 1 completed\n",
      "\n",
      "1 Failed download:\n",
      "['AXJO']: YFChartError('%ticker%: No data found, symbol may be delisted')\n"
     ]
    },
    {
     "name": "stdout",
     "output_type": "stream",
     "text": [
      "Downloaded data for AXJO is empty, skipping.\n",
      "Downloading NZSE50FG data and saving to data/2024-11-24/NZSE50FG.csv\n",
      "Data for AXJO is invalid or missing 'Adj Close', skipping.\n"
     ]
    },
    {
     "name": "stderr",
     "output_type": "stream",
     "text": [
      "[*********************100%%**********************]  1 of 1 completed\n",
      "\n",
      "1 Failed download:\n",
      "['NZSE50FG']: YFChartError('%ticker%: No data found, symbol may be delisted')\n"
     ]
    },
    {
     "name": "stdout",
     "output_type": "stream",
     "text": [
      "Downloaded data for NZSE50FG is empty, skipping.\n",
      "Data for NZSE50FG is invalid or missing 'Adj Close', skipping.\n",
      "Failed to download data for: TNX, IRX, FVX, TYX, DGS10, DGS2, DGS5, DGS30, FEDFUNDS, GDPC1, CPIAUCSL, UMCSENT, UNRATE, INDPRO, HOUST, PERMIT, NAPM, NAPMNOI, DCOILWTICO, VIX, SSMI, BVSP, MXX, MERV, GSPTSE, AXJO, NZSE50FG\n",
      "Correlation matrix saved to output/2024-11-24/correlation_matrix.pdf\n"
     ]
    }
   ],
   "source": [
    "import os\n",
    "import yfinance as yf\n",
    "import pandas as pd\n",
    "import matplotlib.pyplot as plt\n",
    "import seaborn as sns\n",
    "from datetime import datetime\n",
    "from concurrent.futures import ThreadPoolExecutor, as_completed\n",
    "from matplotlib.backends.backend_pdf import PdfPages\n",
    "\n",
    "# Create a folder for today's date\n",
    "today = datetime.today().strftime('%Y-%m-%d')\n",
    "data_folder = f\"data/{today}\"\n",
    "output_folder = f\"output/{today}\"\n",
    "os.makedirs(data_folder, exist_ok=True)\n",
    "os.makedirs(output_folder, exist_ok=True)\n",
    "\n",
    "# Function to download or load cached data\n",
    "def get_data(ticker):\n",
    "    file_path = f\"{data_folder}/{ticker}.csv\"\n",
    "    \n",
    "    # Check if file already exists\n",
    "    if os.path.exists(file_path):\n",
    "        print(f\"Loading {ticker} data from {file_path}\")\n",
    "        try:\n",
    "            return pd.read_csv(file_path, index_col=0, parse_dates=True)\n",
    "        except Exception as e:\n",
    "            print(f\"Error loading cached file for {ticker}: {e}\")\n",
    "            return None\n",
    "    else:\n",
    "        print(f\"Downloading {ticker} data and saving to {file_path}\")\n",
    "        try:\n",
    "            df = yf.download(ticker, period='5y')\n",
    "            if not df.empty:\n",
    "                df.to_csv(file_path)\n",
    "                return df\n",
    "            else:\n",
    "                print(f\"Downloaded data for {ticker} is empty, skipping.\")\n",
    "                return None\n",
    "        except Exception as e:\n",
    "            print(f\"Error downloading {ticker}: {e}\")\n",
    "            return None\n",
    "\n",
    "all_assets = [\n",
    "    'SPY', 'USO', 'GLD', 'TLT', 'XLU', 'XLK', 'XLY', 'DBC', 'EEM', 'ZROZ',\n",
    "    'IEF', 'XLP', 'XLRE', 'PDBC', 'GSG', 'DBA', 'JJM', 'COPX', 'TIP', 'UUP',\n",
    "    'ITB', 'EFA', 'VWO', 'XLC', 'XLV', 'XLF', 'XLI', 'XLB', 'XLE', 'XLRE',\n",
    "    'XLP', 'XLY', 'XLK', 'XLU', 'FXE', 'FXY', 'FXB', 'FXC', 'FXA', 'FXF',\n",
    "    'CNY=X', 'CL=F', 'BZ=F', 'NG=F', 'RB=F', 'HO=F', 'GC=F', 'SI=F', 'HG=F',\n",
    "    'PL=F', 'PA=F', 'ALI=F', 'ZC=F', 'ZW=F', 'ZS=F', 'KC=F', 'SB=F',\n",
    "    'CT=F', 'CC=F', 'LB=F', 'LE=F', 'HE=F', 'GF=F',\n",
    "    'TNX', 'IRX', 'FVX', 'TYX', 'DGS10', 'DGS2', 'DGS5', 'DGS30',\n",
    "    'FEDFUNDS', 'GDPC1', 'CPIAUCSL', 'UMCSENT', 'UNRATE', 'INDPRO',\n",
    "    'HOUST', 'PERMIT', 'NAPM', 'NAPMNOI', 'DCOILWTICO',\n",
    "    'XAR', 'XTN', 'XRT', 'XHB', 'XSD', 'XBI',\n",
    "    'VIX',\n",
    "    '^N225', 'HSI', '^STOXX50E', '^FTSE', '^GDAXI', '^FCHI', '^IBEX',\n",
    "    'SSMI', 'BVSP', 'MXX', 'MERV', 'GSPTSE', 'AXJO', 'NZSE50FG'\n",
    "]\n",
    "'''\n",
    "all_assets = [\n",
    "    'SPY', 'USO', 'GC.F', 'TLT', 'XLU', 'XLK', 'XLY', 'DBC', 'EEM', 'ZROZ', \n",
    "    'IEF', 'XLP', 'XLRE', 'PDBC', 'GSG', 'DBA', 'JJM', 'COPX', 'TIP', 'UUP', \n",
    "    'ITB', 'EFA', 'VWO', 'XLC', 'XLV', 'XLF', 'XLI', 'XLB', 'XLE', 'XLRE', \n",
    "    'XLP', 'XLY', 'XLK', 'XLU', 'FXE', 'FXY', 'FXB', 'FXC', 'FXA', 'FXF', \n",
    "    'CNY', 'CL=F', 'BZ=F', 'NG=F', 'RB=F', 'HO=F', 'GC=F', 'SI=F', 'HG=F', \n",
    "    'PL=F', 'PA=F', 'ALI=F', 'ZC=F', 'ZW=F', 'ZS=F', 'KC=F', 'SB=F', \n",
    "    'CT=F', 'CC=F', 'LB=F', 'LE=F', 'HE=F', 'GF=F',\n",
    "    'TNX', 'IRX', 'FVX', 'TYX', 'DGS10', 'DGS2', 'DGS5', 'DGS30', \n",
    "    'FEDFUNDS', 'GDPC1', 'CPIAUCSL', 'UMCSENT', 'UNRATE', 'INDPRO', \n",
    "    'HOUST', 'PERMIT', 'NAPM', 'NAPMNOI', 'DCOILWTICO',\n",
    "    'XAR', 'XTN', 'XRT', 'XHB', 'XSD', 'XBI',\n",
    "    'VIX', \n",
    "    'N225', 'HSI', 'STOXX50E', 'FTSE', 'GDAXI', 'FCHI', 'IBEX', \n",
    "    'SSMI', 'BVSP', 'MXX', 'MERV', 'GSPTSE', 'AXJO', 'NZSE50FG'\n",
    "]\n",
    "''' \n",
    "# List of assets\n",
    "#all_assets = [\n",
    "#    'SPY', 'USO', 'GC=F', 'TLT', 'XLU', 'XLK', 'XLY', 'DBC', 'EEM', 'ZROZ', \n",
    "#    'IEF', 'XLP', 'XLRE', 'PDBC', 'GSG', 'DBA', 'JJM', 'COPX', 'TIP', 'UUP', \n",
    "#    'ITB', 'EFA', 'VWO', 'XLC', 'XLV', 'XLF', 'XLI', 'XLB', 'XLE', 'XLRE', \n",
    "#    'XLP', 'XLY', 'XLK', 'XLU', 'FXE', 'FXY', 'FXB', 'FXC', 'FXA', 'FXF', \n",
    "#    'CNY', 'CL=F', 'BZ=F', 'NG=F', 'RB=F', 'HO=F', 'GC=F', 'SI=F', 'HG=F', \n",
    "#    'PL=F', 'PA=F', 'ALI=F', 'ZC=F', 'ZW=F', 'ZS=F', 'KC=F', 'SB=F', \n",
    "#    'CT=F', 'CC=F', 'LB=F', 'LE=F', 'HE=F', 'GF=F'\n",
    "#]\n",
    "\n",
    "# Function to download or load data for all assets in parallel\n",
    "def download_data_parallel(assets):\n",
    "    df_dict = {}\n",
    "    failed_tickers = []\n",
    "    with ThreadPoolExecutor(max_workers=1) as executor:\n",
    "        future_to_ticker = {executor.submit(get_data, asset): asset for asset in assets}\n",
    "        for future in as_completed(future_to_ticker):\n",
    "            asset = future_to_ticker[future]\n",
    "            try:\n",
    "                df = future.result()\n",
    "                if df is not None and 'Adj Close' in df.columns:\n",
    "                    df_dict[asset] = df['Adj Close']\n",
    "                else:\n",
    "                    print(f\"Data for {asset} is invalid or missing 'Adj Close', skipping.\")\n",
    "                    failed_tickers.append(asset)\n",
    "            except Exception as e:\n",
    "                print(f\"Error processing {asset}: {e}\")\n",
    "                failed_tickers.append(asset)\n",
    "    if failed_tickers:\n",
    "        print(f\"Failed to download data for: {', '.join(failed_tickers)}\")\n",
    "    return df_dict\n",
    "\n",
    "df_dict = download_data_parallel(all_assets)\n",
    "\n",
    "# Ensure we have valid data before continuing\n",
    "if len(df_dict) == 0:\n",
    "    print(\"No valid data was downloaded, exiting...\")\n",
    "else:\n",
    "    # Calculate percentage change for all assets\n",
    "    pct_change_dict = {}\n",
    "    for asset, df in df_dict.items():\n",
    "        if not df.empty:\n",
    "            pct_change = df.pct_change().dropna()\n",
    "            if not pct_change.empty:\n",
    "                pct_change_dict[asset] = pct_change\n",
    "\n",
    "    # Convert to DataFrame for easier handling\n",
    "    combined_pct_change_df = pd.DataFrame(pct_change_dict).dropna()\n",
    "\n",
    "    # Check if the combined DataFrame is still valid\n",
    "    if combined_pct_change_df.empty:\n",
    "        print(\"No valid percentage change data, exiting...\")\n",
    "    else:\n",
    "        # Save correlation heatmap to a PDF\n",
    "        with PdfPages(f\"{output_folder}/correlation_matrix.pdf\") as pdf:\n",
    "            import scipy.cluster.hierarchy as sch\n",
    "\n",
    "            def plot_clustered_correlation_heatmap(combined_pct_change_df):\n",
    "                # Calculate the correlation matrix\n",
    "                corr_matrix = combined_pct_change_df.corr()\n",
    "    \n",
    "                # Perform hierarchical clustering to reorder the correlation matrix\n",
    "                pairwise_dists = sch.distance.pdist(corr_matrix)  # Get pairwise distances\n",
    "                linkage = sch.linkage(pairwise_dists, method='complete')  # Perform clustering\n",
    "                dendro = sch.dendrogram(linkage, no_plot=True)  # Get the reordering from the clustering\n",
    "    \n",
    "                # Reorder the correlation matrix according to the clustering\n",
    "                reordered_corr_matrix = corr_matrix.iloc[dendro['leaves'], dendro['leaves']]\n",
    "    \n",
    "                # Plot the reordered correlation heatmap\n",
    "                plt.figure(figsize=(24, 24))  # Increase figure size for better readability\n",
    "                sns.heatmap(reordered_corr_matrix, annot=True, cmap='RdBu', center=0, \n",
    "                            annot_kws={\"size\": 10}, fmt='.2f', cbar_kws={\"shrink\": 0.5}, \n",
    "                            linewidths=0.1, square=True)\n",
    "    \n",
    "                # Set axis labels and title\n",
    "                plt.xticks(rotation=45, ha=\"right\", fontsize=14)\n",
    "                plt.yticks(fontsize=14)\n",
    "                plt.title('Clustered Correlation Heatmap of Percentage Changes', fontsize=18)\n",
    "                plt.tight_layout()  # Adjust layout to fit everything\n",
    "    \n",
    "                # Save the plot to a PDF\n",
    "                pdf.savefig()  # Save the heatmap to the PDF\n",
    "                plt.close()\n",
    "            def plot_correlation_heatmapWorks(combined_pct_change_df):\n",
    "                corr_matrix = combined_pct_change_df.corr()\n",
    "                plt.figure(figsize=(24, 24))  # Adjust the figure size to focus more on block size\n",
    "                sns.heatmap(corr_matrix, annot=True, cmap='RdBu', center=0, \n",
    "                            annot_kws={\"size\": 8}, fmt='.2f', cbar_kws={\"shrink\": 0.5}, \n",
    "                linewidths=0.5, square=True)  # Add linewidths and make the cells square\n",
    "                # Increase font sizes for readability\n",
    "                plt.xticks(rotation=45, ha=\"right\", fontsize=12)  # Increase x-axis font size\n",
    "                plt.yticks(fontsize=12)  # Increase y-axis font size\n",
    "                plt.title('Correlation Heatmap of Percentage Changes Across All Assets', fontsize=16)  # Title font size\n",
    "                plt.tight_layout()  # Adjust layout to fit everything\n",
    "                pdf.savefig()  # Save the heatmap to the PDF\n",
    "                plt.close()\n",
    "            \n",
    "            #plot_correlation_heatmap(combined_pct_change_df)\n",
    "            plot_clustered_correlation_heatmap(combined_pct_change_df)\n",
    "         \n",
    "\n",
    "        print(f\"Correlation matrix saved to {output_folder}/correlation_matrix.pdf\")"
   ]
  },
  {
   "cell_type": "code",
   "execution_count": 13,
   "id": "7eef8d39-67e9-41c7-b608-a1cc371b5367",
   "metadata": {},
   "outputs": [],
   "source": [
    "xlu_tickers = [\n",
    "    \"NEE\", # NextEra Energy\n",
    "    \"DUK\", # Duke Energy\n",
    "    \"SO\",  # Southern Company\n",
    "    \"D\",   # Dominion Energy\n",
    "    \"AEP\", # American Electric Power\n",
    "    \"EXC\", # Exelon\n",
    "    \"PEG\", # Public Service Enterprise Group\n",
    "    \"ED\",  # Consolidated Edison\n",
    "    \"SRE\", # Sempra Energy\n",
    "    \"WEC\", # WEC Energy Group\n",
    "]"
   ]
  },
  {
   "cell_type": "code",
   "execution_count": 32,
   "id": "90ba7eef-4c98-4700-af6d-80b79b7501c8",
   "metadata": {},
   "outputs": [],
   "source": [
    "xlb_tickers = [\n",
    "    \"LIN\",  # Linde plc\n",
    "    \"APD\",  # Air Products and Chemicals\n",
    "    \"SHW\",  # Sherwin-Williams\n",
    "    \"PPG\",  # PPG Industries\n",
    "    \"DOW\",  # Dow Inc.\n",
    "    \"LYB\",  # LyondellBasell Industries\n",
    "    \"ECL\",  # Ecolab\n",
    "    \"FCX\",  # Freeport-McMoRan\n",
    "    \"NEM\",  # Newmont\n",
    "    \"IFF\",  # International Flavors & Fragrances\n",
    "]"
   ]
  },
  {
   "cell_type": "code",
   "execution_count": 5,
   "id": "5525bcaf-afd8-434e-9b1e-e9a24afa0a0b",
   "metadata": {},
   "outputs": [],
   "source": [
    "xlre_tickers = [\n",
    "    \"PLD\",  # Prologis\n",
    "    \"EQIX\", # Equinix\n",
    "    \"AMT\",  # American Tower\n",
    "    \"CCI\",  # Crown Castle International\n",
    "    \"WELL\", # Welltower\n",
    "    \"AVB\",  # AvalonBay Communities\n",
    "    \"PSA\",  # Public Storage\n",
    "    \"SPG\",  # Simon Property Group\n",
    "    \"VTR\",  # Ventas\n",
    "    \"WY\",   # Weyerhaeuser\n",
    "]"
   ]
  },
  {
   "cell_type": "code",
   "execution_count": 6,
   "id": "da37eba8-3a48-4455-a785-665fd3b6558a",
   "metadata": {},
   "outputs": [],
   "source": [
    "xli_tickers = [\n",
    "    \"UNP\",  # Union Pacific\n",
    "    \"HON\",  # Honeywell International\n",
    "    \"RTX\",  # Raytheon Technologies\n",
    "    \"BA\",   # Boeing\n",
    "    \"CAT\",  # Caterpillar\n",
    "    \"GE\",   # General Electric\n",
    "    \"MMM\",  # 3M\n",
    "    \"CSX\",  # CSX Corporation\n",
    "    \"DE\",   # Deere & Company\n",
    "    \"LMT\",  # Lockheed Martin\n",
    "]"
   ]
  },
  {
   "cell_type": "code",
   "execution_count": 7,
   "id": "6381940f-676c-414e-bbca-d078f65e373c",
   "metadata": {},
   "outputs": [],
   "source": [
    "xlv_tickers = [\n",
    "    \"JNJ\",  # Johnson & Johnson\n",
    "    \"UNH\",  # UnitedHealth Group\n",
    "    \"LLY\",  # Eli Lilly and Company\n",
    "    \"MRK\",  # Merck & Co.\n",
    "    \"ABBV\", # AbbVie\n",
    "    \"PFE\",  # Pfizer\n",
    "    \"TMO\",  # Thermo Fisher Scientific\n",
    "    \"ABT\",  # Abbott Laboratories\n",
    "    \"BMY\",  # Bristol-Myers Squibb\n",
    "    \"MDT\",  # Medtronic\n",
    "]"
   ]
  },
  {
   "cell_type": "code",
   "execution_count": 22,
   "id": "d235fd2b-9322-48de-8cf5-7386cf591c76",
   "metadata": {},
   "outputs": [],
   "source": [
    "xlf_tickers = [\n",
    "    \"BRK-B\", # Berkshire Hathaway\n",
    "    \"JPM\",   # JPMorgan Chase\n",
    "    \"BAC\",   # Bank of America\n",
    "    \"WFC\",   # Wells Fargo\n",
    "    \"BLK\",   # BlackRock\n",
    "    \"MS\",    # Morgan Stanley\n",
    "    \"GS\",    # Goldman Sachs\n",
    "    \"C\",     # Citigroup\n",
    "    \"USB\",   # U.S. Bancorp\n",
    "    \"PNC\",   # PNC Financial Services\n",
    "]"
   ]
  },
  {
   "cell_type": "code",
   "execution_count": 9,
   "id": "8707a211-d4c0-48d8-9bf7-0f838a311e18",
   "metadata": {},
   "outputs": [],
   "source": [
    "xlk_tickers = [\n",
    "    \"AAPL\",  # Apple\n",
    "    \"MSFT\",  # Microsoft\n",
    "    \"NVDA\",  # NVIDIA\n",
    "    \"TSM\",   # Taiwan Semiconductor\n",
    "    \"META\",  # Meta Platforms (formerly Facebook)\n",
    "    \"AVGO\",  # Broadcom\n",
    "    \"ADBE\",  # Adobe\n",
    "    \"TXN\",   # Texas Instruments\n",
    "    \"CRM\",   # Salesforce\n",
    "    \"INTC\",  # Intel\n",
    "]"
   ]
  },
  {
   "cell_type": "code",
   "execution_count": 45,
   "id": "569e81c7-21f1-425a-a169-51bb05d716d1",
   "metadata": {},
   "outputs": [],
   "source": [
    "xle_tickers = [\n",
    "    \"LNG\",   # Nat Gas\n",
    "    \"XOM\",   # Exxon Mobil\n",
    "    \"CVX\",   # Chevron\n",
    "    \"COP\",   # ConocoPhillips\n",
    "    \"EOG\",   # EOG Resources\n",
    "    \"SLB\",   # Schlumberger\n",
    "    \"VLO\",   # Valero Energy\n",
    "    \"MPC\",   # Marathon Petroleum\n",
    "    \"PSX\",   # Phillips 66\n",
    "    \"OXY\",   # Occidental Petroleum\n",
    "    \"HAL\",   # Halliburton\n",
    "]"
   ]
  },
  {
   "cell_type": "code",
   "execution_count": 11,
   "id": "8c24b855-57fc-4aa6-aad0-354c6defe117",
   "metadata": {},
   "outputs": [],
   "source": [
    "xlp_tickers = [\n",
    "    \"PG\",    # Procter & Gamble\n",
    "    \"KO\",    # Coca-Cola\n",
    "    \"PEP\",   # PepsiCo\n",
    "    \"COST\",  # Costco Wholesale\n",
    "    \"WMT\",   # Walmart\n",
    "    \"MDLZ\",  # Mondelez International\n",
    "    \"PM\",    # Philip Morris International\n",
    "    \"K\",     # Kellogg\n",
    "    \"CL\",    # Colgate-Palmolive\n",
    "    \"MO\",    # Altria Group\n",
    "]"
   ]
  },
  {
   "cell_type": "code",
   "execution_count": 12,
   "id": "20e1744a-dbbe-463c-8187-32f4fc46ffde",
   "metadata": {},
   "outputs": [],
   "source": [
    "xly_tickers = [\n",
    "    \"AMZN\", # Amazon\n",
    "    \"TSLA\", # Tesla\n",
    "    \"HD\",   # Home Depot\n",
    "    \"MCD\",  # McDonald's\n",
    "    \"NKE\",  # Nike\n",
    "    \"LOW\",  # Lowe's\n",
    "    \"SBUX\", # Starbucks\n",
    "    \"CMG\",  # Chipotle Mexican Grill\n",
    "    \"TJX\",  # TJX Companies\n",
    "    \"BKNG\", # Booking Holdings\n",
    "]"
   ]
  },
  {
   "cell_type": "code",
   "execution_count": 13,
   "id": "efe20ebd-0cf5-4ecb-8698-9080c05529ec",
   "metadata": {},
   "outputs": [],
   "source": [
    "xlc_tickers = [\n",
    "    \"GOOGL\", # Alphabet (Google) Class A\n",
    "    \"GOOG\",  # Alphabet (Google) Class C\n",
    "    \"META\",  # Meta Platforms (formerly Facebook)\n",
    "    \"T\",     # AT&T\n",
    "    \"CMCSA\", # Comcast\n",
    "    \"VZ\",    # Verizon\n",
    "    \"TMUS\",  # T-Mobile US\n",
    "    \"NFLX\",  # Netflix\n",
    "    \"CHTR\",  # Charter Communications\n",
    "    \"DIS\",   # Walt Disney\n",
    "]\n"
   ]
  },
  {
   "cell_type": "code",
   "execution_count": 31,
   "id": "432cea3c-a6f4-496b-baad-3cae2d587cca",
   "metadata": {},
   "outputs": [],
   "source": [
    "sp500_tickers = [\n",
    "    \"AAPL\", \"MSFT\", \"AMZN\", \"GOOGL\", \"GOOG\", \"META\", \"TSLA\", \"NVDA\", \"BRK-B\", \"JPM\", \n",
    "    \"V\", \"UNH\", \"XOM\", \"JNJ\", \"WMT\", \"PG\", \"MA\", \"LLY\", \"AVGO\", \"HD\", \"CVX\", \"MRK\", \n",
    "    \"PEP\", \"KO\", \"ABBV\", \"COST\", \"PFE\", \"TMO\", \"MCD\", \"ACN\", \"DHR\", \"DIS\", \"CSCO\", \n",
    "    \"ADBE\", \"ABT\", \"NFLX\", \"LIN\", \"CMCSA\", \"PM\", \"VZ\", \"NEE\", \"TXN\", \"NKE\", \"CRM\", \n",
    "    \"WFC\", \"BMY\", \"AMGN\", \"QCOM\", \"SCHW\", \"UPS\", \"HON\", \"ORCL\", \"MS\", \"RTX\", \"AMT\", \n",
    "    \"GS\", \"C\", \"AMD\", \"COP\", \"IBM\", \"MDT\", \"INTC\", \"BA\", \"BLK\", \"GE\", \"SBUX\", \"LMT\", \n",
    "    \"SPGI\", \"MMM\", \"ISRG\", \"CAT\", \"T\", \"CVS\", \"AXP\", \"DE\", \"ELV\", \"USB\", \"INTU\", \n",
    "    \"CB\", \"ZTS\", \"DUK\", \"TGT\", \"CL\", \"NOW\", \"MO\", \"GM\", \"BKNG\", \"LOW\", \"PNC\", \"SYK\", \n",
    "    \"GILD\", \"PLD\", \"BDX\", \"F\", \"CI\", \"NSC\", \"SO\", \"ADP\", \"CCI\", \"ITW\", \"ADI\", \"EW\", \n",
    "    \"TFC\", \"MU\", \"CME\", \"REGN\", \"SHW\", \"HUM\", \"EQIX\", \"APD\", \"MAR\", \"WM\", \"LRCX\", \n",
    "    \"PGR\", \"AON\", \"MMC\", \"PSA\", \"COF\", \"CHTR\", \"AIG\", \"AFL\", \"ORLY\", \"TJX\", \"MCO\", \n",
    "    \"HCA\", \"MET\", \"KLAC\", \"TRV\", \"FDX\", \"MRNA\", \"LHX\", \"FISV\", \"PRU\", \"EMR\", \"IDXX\", \n",
    "    \"CTAS\", \"CSX\", \"D\", \"SRE\", \"OTIS\", \"DG\", \"RMD\", \"ETN\", \"PSX\", \"ROP\", \"KMB\", \n",
    "    \"ECL\", \"DHI\", \"NOC\", \"EXC\", \"OXY\", \"STZ\", \"FCX\", \"SLB\", \"CMG\", \"TDG\", \"MSCI\", \n",
    "    \"ADM\", \"PH\", \"JCI\", \"BK\", \"KMI\", \"GLW\", \"WBA\", \"DFS\", \"BKR\", \"DOW\", \"ALL\", \n",
    "    \"VLO\", \"WMB\", \"VRSK\", \"EOG\", \"SPG\", \"KHC\", \"MPC\", \"STT\", \"KR\", \"CTSH\", \"MCHP\", \n",
    "    \"KDP\", \"SYY\", \"GPN\", \"PPG\", \"NUE\", \"CNC\", \"FTNT\", \"YUM\", \"IQV\", \"HLT\", \"AWK\", \n",
    "    \"PAYX\", \"HSY\", \"SWK\", \"WELL\", \"MCK\", \"FTV\", \"MTD\", \"XYL\", \"AJG\", \"TT\", \"PCAR\", \n",
    "    \"HES\", \"AZO\", \"SBAC\", \"ES\", \"MSI\", \"DLR\", \"VICI\", \"CDNS\", \"MLM\", \"ROST\", \"PXD\", \n",
    "    \"CBRE\", \"BAX\", \"BF.B\", \"KEYS\", \"ODFL\", \"RSG\", \"ZBH\", \"LEN\", \"NDAQ\", \"CARR\", \n",
    "    \"EFX\", \"LUV\", \"AVB\", \"TTWO\", \"SNPS\", \"A\", \"SIVB\", \"BXP\", \"NTRS\", \"HBAN\", \n",
    "    \"BILL\", \"EXPE\", \"MTB\", \"ARE\", \"STE\", \"PFG\", \"QRVO\", \"DLTR\", \"J\", \"AKAM\", \"DRI\", \n",
    "    \"IP\", \"BKR\", \"DXC\", \"CTRA\", \"BENE\", \"ALB\", \"GRMN\", \"PPL\", \"HIG\", \"SWKS\", \"TER\", \n",
    "    \"FE\", \"AMCR\", \"CE\", \"HOLX\", \"HPE\", \"VRSN\", \"ZION\", \"RCL\", \"PWR\", \"ESS\", \"HAS\", \n",
    "    \"IR\", \"BRO\", \"GPC\", \"FMC\", \"APA\", \"TYL\", \"JXN\", \"GL\", \"DVA\", \"PKI\", \"CTVA\", \n",
    "    \"HII\", \"L\", \"SEE\", \"PENN\", \"AAL\", \"NRG\", \"SBNY\", \"FOXA\", \"RE\", \"WDC\", \"LYV\", \n",
    "    \"FANG\", \"MOS\", \"IPG\", \"ATO\", \"EMN\", \"WY\", \"RJF\", \"FFIV\", \"LNC\", \"NWSA\", \"PVH\", \n",
    "    \"FRC\", \"DOV\", \"ZBRA\", \"NVR\", \"VTRS\", \"NLOK\", \"TPX\", \"O\", \"NCLH\", \"AES\", \"ALGN\", \n",
    "    \"UAL\", \"ROL\", \"MRO\", \"MGM\", \"PEAK\", \"WHR\", \"LKQ\", \"CAG\", \"FLS\", \"UAL\", \"CPB\", \n",
    "    \"CHRW\", \"FDS\", \"WAB\", \"AOS\", \"ALK\", \"WRB\", \"TAP\", \"VTR\", \"RF\", \"TXT\", \"PKG\", \n",
    "    \"GNRC\", \"SIVB\", \"NWS\", \"TDY\", \"CNP\", \"LW\", \"LW\", \"WU\", \"RKT\", \"IVZ\", \"TRGP\", \n",
    "    \"TOL\", \"CEG\", \"ATO\", \"PENN\", \"FOXA\", \"VFC\"\n",
    "]\n"
   ]
  },
  {
   "cell_type": "code",
   "execution_count": null,
   "id": "f8a76dd0-56bf-45bd-bca9-e2128a979de3",
   "metadata": {},
   "outputs": [],
   "source": []
  },
  {
   "cell_type": "code",
   "execution_count": 32,
   "id": "4b22b39e-71e7-43ec-8cf9-e9861f0c9503",
   "metadata": {},
   "outputs": [],
   "source": [
    "sectors_list_a = [ \"XLU\", \"XLY\",\"XLP\",\"XLRE\",\"VNQ\",\"KIE\",\"XLF\",\"MOO\",\"XLV\",\"XLI\",\"XLC\",\"XLB\",\"IBB\",\"TAN\",\"KRE\",\"ITB\",\"GDX\",\"XLE\",\"PBW\",\"XLK\",\"XME\",\"SMH\"] "
   ]
  },
  {
   "cell_type": "code",
   "execution_count": null,
   "id": "f2cd9491-9399-49e8-9669-a814e5fe2938",
   "metadata": {},
   "outputs": [],
   "source": []
  },
  {
   "cell_type": "code",
   "execution_count": null,
   "id": "7ea80040-0059-4aaf-b35e-09eb68a17104",
   "metadata": {},
   "outputs": [],
   "source": []
  },
  {
   "cell_type": "code",
   "execution_count": 33,
   "id": "0f5d1c13-39ad-4e6f-a900-c6b0c98bc3c1",
   "metadata": {},
   "outputs": [],
   "source": [
    "current_assets = sp500_tickers"
   ]
  },
  {
   "cell_type": "code",
   "execution_count": 16,
   "id": "9a6e2db3-def4-439f-ae5f-830de79e8214",
   "metadata": {},
   "outputs": [
    {
     "name": "stdout",
     "output_type": "stream",
     "text": [
      "Collecting scipy\n",
      "  Downloading scipy-1.14.1-cp310-cp310-manylinux_2_17_x86_64.manylinux2014_x86_64.whl (41.2 MB)\n",
      "\u001b[2K     \u001b[90m━━━━━━━━━━━━━━━━━━━━━━━━━━━━━━━━━━━━━━━\u001b[0m \u001b[32m41.2/41.2 MB\u001b[0m \u001b[31m410.6 kB/s\u001b[0m eta \u001b[36m0:00:00\u001b[0m00:01\u001b[0m00:01\u001b[0m\n",
      "\u001b[?25hRequirement already satisfied: numpy<2.3,>=1.23.5 in /home/om3n/prog/python3/yf/lib/python3.10/site-packages (from scipy) (2.1.1)\n",
      "Installing collected packages: scipy\n",
      "Successfully installed scipy-1.14.1\n"
     ]
    }
   ],
   "source": [
    "!pip install scipy\n"
   ]
  },
  {
   "cell_type": "code",
   "execution_count": null,
   "id": "3a1fed1a-db77-40b9-9c62-8e3db2635438",
   "metadata": {},
   "outputs": [],
   "source": []
  }
 ],
 "metadata": {
  "kernelspec": {
   "display_name": "Python 3 (ipykernel)",
   "language": "python",
   "name": "python3"
  },
  "language_info": {
   "codemirror_mode": {
    "name": "ipython",
    "version": 3
   },
   "file_extension": ".py",
   "mimetype": "text/x-python",
   "name": "python",
   "nbconvert_exporter": "python",
   "pygments_lexer": "ipython3",
   "version": "3.10.12"
  }
 },
 "nbformat": 4,
 "nbformat_minor": 5
}
