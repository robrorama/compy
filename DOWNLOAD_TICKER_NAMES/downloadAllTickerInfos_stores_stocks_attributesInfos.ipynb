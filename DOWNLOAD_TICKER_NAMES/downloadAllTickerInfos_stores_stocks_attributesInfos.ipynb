{
 "cells": [
  {
   "cell_type": "code",
   "execution_count": 1,
   "id": "27f9a87f-7758-485b-8f68-b7766a9dc93b",
   "metadata": {},
   "outputs": [],
   "source": [
    "import os\n",
    "import sys\n",
    "from datetime import datetime\n",
    "import yfinance as yf\n",
    "\n",
    "def save_stock_data(ticker):\n",
    "    # Define folder path\n",
    "    current_date = datetime.today().strftime('%Y_%m_%d')\n",
    "    folder_path = f'DATA/{current_date}'\n",
    "    \n",
    "    # Create folder if it doesn't exist\n",
    "    if not os.path.exists(folder_path):\n",
    "        os.makedirs(folder_path)\n",
    "        \n",
    "    # Define stock object\n",
    "    stock = yf.Ticker(ticker)\n",
    "    \n",
    "    # Save stock data\n",
    "    stock_data = stock.history(period='max')\n",
    "    stock_data.to_csv(f'{folder_path}/{ticker}_stock_data.csv')\n",
    "    \n",
    "    # Save other data types\n",
    "    data_types = ['actions', 'dividends', 'splits']\n",
    "    for data_type in data_types:\n",
    "        data = getattr(stock, data_type)\n",
    "        try:\n",
    "            data.to_csv(f'{folder_path}/{ticker}_{data_type}.csv')\n",
    "        except AttributeError:\n",
    "            print(f\"No {data_type} data available for {ticker}.\")\n",
    "\n",
    "if __name__ == '__main__':\n",
    "    if len(sys.argv) < 2:\n",
    "        print(\"Please provide a stock ticker as an argument.\")\n",
    "        sys.exit(1)\n",
    "    \n",
    "    #ticker = sys.argv[1]\n",
    "    #ticker = 'AAPL'\n",
    "    #save_stock_data(ticker)\n"
   ]
  },
  {
   "cell_type": "code",
   "execution_count": 2,
   "id": "d63d4b3c-e1f5-4033-b349-e4452f7ac51c",
   "metadata": {},
   "outputs": [
    {
     "ename": "NameError",
     "evalue": "name 'i' is not defined",
     "output_type": "error",
     "traceback": [
      "\u001b[0;31m---------------------------------------------------------------------------\u001b[0m",
      "\u001b[0;31mNameError\u001b[0m                                 Traceback (most recent call last)",
      "Cell \u001b[0;32mIn[2], line 1\u001b[0m\n\u001b[0;32m----> 1\u001b[0m \u001b[43mi\u001b[49m\u001b[38;5;66;03m#nvda = yf.Ticker(\"NVDA\")\u001b[39;00m\n",
      "\u001b[0;31mNameError\u001b[0m: name 'i' is not defined"
     ]
    }
   ],
   "source": [
    "#nvda = yf.Ticker(\"NVDA\")"
   ]
  },
  {
   "cell_type": "code",
   "execution_count": null,
   "id": "6c50f85d-3bab-4335-b026-fbedc5740d58",
   "metadata": {},
   "outputs": [],
   "source": [
    "#print(dir(nvda))"
   ]
  },
  {
   "cell_type": "code",
   "execution_count": 3,
   "id": "6f513fde-2aa3-4637-bef6-ec9fe9bfcff4",
   "metadata": {},
   "outputs": [
    {
     "name": "stderr",
     "output_type": "stream",
     "text": [
      "/home/mderby/.local/lib/python3.10/site-packages/yfinance/scrapers/holders.py:39: FutureWarning: Passing literal html to 'read_html' is deprecated and will be removed in a future version. To read from a literal string, wrap it in a 'StringIO' object.\n",
      "  holders = pd.read_html(resp.text)\n"
     ]
    }
   ],
   "source": [
    "import os\n",
    "import sys\n",
    "from datetime import datetime\n",
    "import yfinance as yf\n",
    "import pandas as pd\n",
    "\n",
    "def save_stock_data(ticker):\n",
    "    # Define folder path\n",
    "    current_date = datetime.today().strftime('%Y_%m_%d')\n",
    "    folder_path = os.path.join('DATA', ticker, current_date)\n",
    "    \n",
    "    # Create folder if it doesn't exist\n",
    "    if not os.path.exists(folder_path):\n",
    "        os.makedirs(folder_path)\n",
    "    '''\n",
    "    ##########\n",
    "    # Define folder path\n",
    "    current_date = datetime.today().strftime('%Y_%m_%d')\n",
    "    folder_path = f'DATA/{current_date}'\n",
    "    \n",
    "    # Create folder if it doesn't exist\n",
    "    if not os.path.exists(folder_path):\n",
    "        os.makedirs(folder_path)\n",
    "    '''\n",
    "        \n",
    "    # Define stock object\n",
    "    stock = yf.Ticker(ticker)\n",
    "    \n",
    "    # Save stock data\n",
    "    stock_data = stock.history(period='max')\n",
    "    stock_data.to_csv(f'{folder_path}/{ticker}_stock_data.csv')\n",
    "    \n",
    "    # Save multiple data\n",
    "    multiple_data = get_multiple_data(ticker)\n",
    "    for data_type, data in multiple_data.items():\n",
    "        if isinstance(data, pd.DataFrame):\n",
    "            data.to_csv(f'{folder_path}/{ticker}_{data_type}.csv')\n",
    "        else:\n",
    "            with open(f'{folder_path}/{ticker}_{data_type}.txt', 'w') as file:\n",
    "                file.write(str(data))\n",
    "    \n",
    "    # Save options data\n",
    "    options_dates = stock.options\n",
    "    for date in options_dates:\n",
    "        options_data = stock.option_chain(date)\n",
    "        options_data.calls.to_csv(f'{folder_path}/{ticker}_options_calls_{date}.csv')\n",
    "        options_data.puts.to_csv(f'{folder_path}/{ticker}_options_puts_{date}.csv')\n",
    "\n",
    "def get_multiple_data(ticker_symbol):\n",
    "    ticker = yf.Ticker(ticker_symbol)\n",
    "    data = {\n",
    "        #'basic_info': ticker.info,\n",
    "        'balance_sheet': ticker.balance_sheet,\n",
    "        'cash_flow': ticker.cashflow,\n",
    "        'dividends': ticker.dividends,\n",
    "        'financials': ticker.financials,\n",
    "        'history': ticker.history(period=\"20y\"),\n",
    "        'institutional_holders': ticker.institutional_holders,\n",
    "        'major_holders': ticker.major_holders,\n",
    "        'mutualfund_holders': ticker.mutualfund_holders,\n",
    "        'quarterly_balance_sheet': ticker.quarterly_balance_sheet,\n",
    "        'quarterly_cash_flow': ticker.quarterly_cash_flow,\n",
    "        'quarterly_financials': ticker.quarterly_financials,\n",
    "        'splits': ticker.splits,\n",
    "    }\n",
    "    return data\n",
    "\n",
    "if __name__ == '__main__':\n",
    "    if len(sys.argv) < 2:\n",
    "        print(\"Please provide a stock ticker as an argument.\")\n",
    "        sys.exit(1)\n",
    "    \n",
    "    #ticker = sys.argv[1]\n",
    "    ticker = 'dis'\n",
    "    save_stock_data(ticker)\n"
   ]
  },
  {
   "cell_type": "code",
   "execution_count": null,
   "id": "d21b8d56-63c7-46a3-978f-02b44694b7d9",
   "metadata": {},
   "outputs": [],
   "source": []
  }
 ],
 "metadata": {
  "kernelspec": {
   "display_name": "Python 3 (ipykernel)",
   "language": "python",
   "name": "python3"
  },
  "language_info": {
   "codemirror_mode": {
    "name": "ipython",
    "version": 3
   },
   "file_extension": ".py",
   "mimetype": "text/x-python",
   "name": "python",
   "nbconvert_exporter": "python",
   "pygments_lexer": "ipython3",
   "version": "3.10.12"
  }
 },
 "nbformat": 4,
 "nbformat_minor": 5
}
